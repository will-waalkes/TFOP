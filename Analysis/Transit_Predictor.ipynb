{
 "cells": [
  {
   "cell_type": "code",
   "execution_count": 1,
   "metadata": {},
   "outputs": [],
   "source": [
    "import numpy as np\n",
    "import matplotlib.pyplot as plt\n",
    "from astropy.time import Time\n",
    "from astropy import coordinates as coord, units as u"
   ]
  },
  {
   "cell_type": "code",
   "execution_count": 2,
   "metadata": {},
   "outputs": [],
   "source": [
    "def transit_predictor(planet,period,epoch,duration,Range=600,plot=True):\n",
    "    \n",
    "    dur = duration/(24.0) #convert hrs to days\n",
    "    t = np.linspace(0,Range,Range+1)\n",
    "    times = epoch + period*t\n",
    "    t = Time(times, format='jd')\n",
    "    now = Time.now().jd\n",
    "    i = (now - epoch)/period\n",
    "    i = int(i)\n",
    "    transitsicareabout = t[i:(i+60)]\n",
    "    \n",
    "    for onetransitcenter in transitsicareabout:\n",
    "        start = onetransitcenter - (1.5*duration*u.hour)\n",
    "        mid = onetransitcenter\n",
    "        end = onetransitcenter + (1.5*duration*u.hour)\n",
    "        print(start.iso)\n",
    "        print(mid.iso)\n",
    "        print(end.iso)\n",
    "        print()"
   ]
  },
  {
   "cell_type": "code",
   "execution_count": 3,
   "metadata": {},
   "outputs": [],
   "source": [
    "#transit_predictor('TOI 2285.01',period=27.2695220,epoch=1747.183178+2457000.0,duration=2.5)"
   ]
  },
  {
   "cell_type": "code",
   "execution_count": 4,
   "metadata": {},
   "outputs": [],
   "source": [
    "#transit_predictor('TOI 1883.01',period=4.5059000,epoch=1517.809802+2457000.0,duration=2.0)"
   ]
  },
  {
   "cell_type": "code",
   "execution_count": 5,
   "metadata": {},
   "outputs": [],
   "source": [
    "#transit_predictor('TOI 2096.02',period=6.3877680,epoch=1687.539955+2457000.0,duration=1.2)"
   ]
  },
  {
   "cell_type": "code",
   "execution_count": 6,
   "metadata": {},
   "outputs": [],
   "source": [
    "#transit_predictor('TOI 2096.01',period=3.1190350,epoch=1684.832891+2457000.0,duration=1.3)"
   ]
  },
  {
   "cell_type": "code",
   "execution_count": 7,
   "metadata": {},
   "outputs": [],
   "source": [
    "#transit_predictor('TOI 2257.01',period=175.9445900,epoch=1691.275171+2457000.0,duration=3.6)"
   ]
  },
  {
   "cell_type": "code",
   "execution_count": 3,
   "metadata": {},
   "outputs": [],
   "source": [
    "#transit_predictor('TOI 2094',period=18.7913430,epoch=1691.330270+2457000.0,duration=1.4)"
   ]
  },
  {
   "cell_type": "code",
   "execution_count": 6,
   "metadata": {},
   "outputs": [],
   "source": [
    "#transit_predictor('TOI 2291',period=9.4061930,epoch=1717.240637+2457000.0,duration=1.5)"
   ]
  },
  {
   "cell_type": "code",
   "execution_count": null,
   "metadata": {},
   "outputs": [],
   "source": []
  }
 ],
 "metadata": {
  "kernelspec": {
   "display_name": "Python 3",
   "language": "python",
   "name": "python3"
  },
  "language_info": {
   "codemirror_mode": {
    "name": "ipython",
    "version": 3
   },
   "file_extension": ".py",
   "mimetype": "text/x-python",
   "name": "python",
   "nbconvert_exporter": "python",
   "pygments_lexer": "ipython3",
   "version": "3.7.4"
  }
 },
 "nbformat": 4,
 "nbformat_minor": 4
}
