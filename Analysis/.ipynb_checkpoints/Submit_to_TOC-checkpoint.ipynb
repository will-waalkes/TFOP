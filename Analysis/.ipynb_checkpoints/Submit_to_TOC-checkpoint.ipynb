{
 "cells": [
  {
   "cell_type": "code",
   "execution_count": 1,
   "metadata": {},
   "outputs": [],
   "source": [
    "import requests\n",
    "import re"
   ]
  },
  {
   "cell_type": "code",
   "execution_count": 3,
   "metadata": {},
   "outputs": [],
   "source": [
    "def create_TOC_entry_url(observatory, date_obs, target, filter1,\n",
    "                         duration, observer, comment=\"Autoscheduled\",\n",
    "                         probability=25):\n",
    "    \n",
    "    '''Function to create a URL to post to the\n",
    "    TESS Observations Coordinator (TOC) to add\n",
    "    an entry for this scheduled observation.'''\n",
    "    \n",
    "    url = 'https://www.astro.louisville.edu/tessplanner/scripts/' + \\\n",
    "          'upload_entry.cgi?observatory={}&date_obs={}&target={}' + \\\n",
    "          '&filter1={}&duration={}&observer={}&probability={}' + \\\n",
    "          '&comment={}&filter2=None&filter3=None&filter4=None'\n",
    "    \n",
    "    return(url.format(observatory, date_obs, target, filter1,\n",
    "                      duration.capitalize(), observer, probability, comment))\n",
    "\n",
    "    \n",
    "def schedule_TOC_entry(observatory, date_obs, target, filter1,\n",
    "                         duration, observer, comment=\"\",\n",
    "                         probability=25, print_url_only=False):\n",
    "    \n",
    "    '''Function to call the proper URL to schedule a TOC entry.\n",
    "    Returns a status message that indicates success or failure.\n",
    "    Parameter print_url_only indicates not to submit if True but only to\n",
    "    print the URL created (useful for interactive testing). '''\n",
    "\n",
    "    toc_url = create_TOC_entry_url(observatory, date_obs, target,\n",
    "                                   filter1, duration, observer,\n",
    "                                   comment, probability)\n",
    "    if print_url_only:\n",
    "        return(toc_url)\n",
    "    ssn = requests.session()\n",
    "    ssn.auth = ('tess_nda_observer', 'F1nd_TE$S_PlaNets!')\n",
    "    req = ssn.get(toc_url)\n",
    "    if req.status_code != 200:\n",
    "        message = \"Failed to submit observation to TESS Observations Coordinator.\\n\"\n",
    "        message += \"Request for URL {} failed with status {}.\".format(toc_url, req.status_code)\n",
    "    else:\n",
    "        m = re.search(\"Entry added.*database as of.*\\d\\d:\\d\\d\", req.text)\n",
    "        if m:\n",
    "            message = m.group().replace(\"Entry\", \"TOC entry\")\n",
    "        else:\n",
    "            message = \"Unexpected reply from TOC server: {}\".format(req.text)\n",
    "\n",
    "    return(message)"
   ]
  },
  {
   "cell_type": "code",
   "execution_count": 9,
   "metadata": {},
   "outputs": [
    {
     "data": {
      "text/plain": [
       "'Failed to submit observation to TESS Observations Coordinator.\\nRequest for URL https://www.astro.louisville.edu/tessplanner/scripts/upload_entry.cgi?observatory=LCO&date_obs=09-27-2020&target=TIC322270620&filter1=I&duration=Full&observer=WillWaalkes&probability=25&comment=&filter2=None&filter3=None&filter4=None failed with status 500.'"
      ]
     },
     "execution_count": 9,
     "metadata": {},
     "output_type": "execute_result"
    }
   ],
   "source": [
    "schedule_TOC_entry(observatory = 'LCO',\n",
    "                   date_obs = '09-27-2020',\n",
    "                   target = 'TIC322270620',\n",
    "                   filter1 = 'I',\n",
    "                   duration = 'Full',\n",
    "                   observer = 'WillWaalkes')"
   ]
  },
  {
   "cell_type": "code",
   "execution_count": null,
   "metadata": {},
   "outputs": [],
   "source": []
  }
 ],
 "metadata": {
  "kernelspec": {
   "display_name": "Python 3",
   "language": "python",
   "name": "python3"
  },
  "language_info": {
   "codemirror_mode": {
    "name": "ipython",
    "version": 3
   },
   "file_extension": ".py",
   "mimetype": "text/x-python",
   "name": "python",
   "nbconvert_exporter": "python",
   "pygments_lexer": "ipython3",
   "version": "3.8.3"
  }
 },
 "nbformat": 4,
 "nbformat_minor": 4
}
