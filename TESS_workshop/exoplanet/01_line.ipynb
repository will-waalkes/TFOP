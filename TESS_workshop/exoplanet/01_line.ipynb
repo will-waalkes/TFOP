{
 "cells": [
  {
   "cell_type": "markdown",
   "metadata": {},
   "source": [
    "# An introduction to PyMC3 & exoplanet for astronomers\n",
    "\n",
    "By: **Dan Foreman-Mackey**\n",
    "\n",
    "In this tutorial, we will learn how to use [exoplanet](https://exoplanet.dfm.io) and [PyMC3](https://docs.pymc.io) to do Markov chain Monte Carlo (MCMC) with a focus on fitting [TESS](https://en.wikipedia.org/wiki/Transiting_Exoplanet_Survey_Satellite) data.\n",
    "But first, we have to do some setup:"
   ]
  },
  {
   "cell_type": "code",
   "execution_count": null,
   "metadata": {},
   "outputs": [],
   "source": [
    "# We want to see plots in the browser\n",
    "%matplotlib inline"
   ]
  },
  {
   "cell_type": "code",
   "execution_count": null,
   "metadata": {},
   "outputs": [],
   "source": [
    "# This is the one dependency missing on the science platform\n",
    "!pip install -q corner\n",
    "\n",
    "# Let's make the plots look a little nicer\n",
    "from matplotlib import rcParams\n",
    "rcParams[\"savefig.dpi\"] = 100\n",
    "rcParams[\"figure.dpi\"] = 100\n",
    "rcParams[\"font.size\"] = 16\n",
    "\n",
    "# The installation of Theano is a little broken (but it'll work\n",
    "# fine for our purposes). Deal with those issues as follows:\n",
    "import os\n",
    "import warnings\n",
    "os.environ[\"MKL_THREADING_LAYER\"] = \"GNU\"\n",
    "warnings.filterwarnings(\"ignore\", category=DeprecationWarning)\n",
    "warnings.filterwarnings(\"ignore\", category=FutureWarning)"
   ]
  },
  {
   "cell_type": "markdown",
   "metadata": {},
   "source": [
    "## Part 1: Fitting a line to data with PyMC3\n",
    "\n",
    "In this example, we'll do the classic example of fitting a line to data using PyMC3.\n",
    "But it's not just any data!\n",
    "Instead, we'll fit a (very simplified) probabilistic mass-radius relationship to the sub-Neptune planets listed on the Exoplanet Archive.\n",
    "You can take a look at [Wolfgang, Rogers & Ford (2016)](https://arxiv.org/abs/1504.07557) or [Chen & Kipping (2016)](https://arxiv.org/abs/1603.08614) for more literature on this topic, but today we'll fit a pretty simple model.\n",
    "\n",
    "For small ($1\\,R_\\oplus < R < 4\\,R_\\oplus$) planets with both mass and radius measurements, we'll fit the relation:\n",
    "\n",
    "$$\n",
    "\\log_{10} M / M_\\oplus = A\\,\\log_{10} R / R_\\oplus + B\n",
    "$$\n",
    "\n",
    "which turns out to be the equation for a line.\n",
    "For simplicity, we'll ignore the uncertainties on radius (although it wouldn't be too hard to incorporate those: [ref](https://dfm.io/posts/fitting-a-plane/)), but we will allow for this relation to have some intrinsic width with standard deviation $\\Sigma_M$ in the mass direction.\n",
    "Under these assumptions, the likelihood function for the $n$-th is:\n",
    "\n",
    "$$\n",
    "\\log_{10} M_n / M_\\oplus \\sim \\mathrm{Normal}\\left(A\\,\\log_{10} R_n / R_\\oplus + B,\\,\\sqrt{{\\sigma_n}^2 + {\\Sigma_M}^2} \\right)\n",
    "$$\n",
    "\n",
    "where ${\\sigma_n}^2$ is the reported uncertainty on the log-mass of the $n$-th planet.\n",
    "Using this model, we'll fit for $A$, $B$, and $\\Sigma_M$ using PyMC3.\n",
    "\n",
    "But first, we need to download and format the data:"
   ]
  },
  {
   "cell_type": "code",
   "execution_count": null,
   "metadata": {},
   "outputs": [],
   "source": [
    "import numpy as np\n",
    "import pandas as pd\n",
    "import matplotlib.pyplot as plt\n",
    "\n",
    "url = \"https://exoplanetarchive.ipac.caltech.edu/cgi-bin/nstedAPI/nph-nstedAPI?table=planets&select=*\"\n",
    "data = pd.read_csv(url)\n",
    "\n",
    "selected = (1 < data.pl_rade) & (data.pl_rade < 4)\n",
    "selected &= data.pl_masse + data.pl_masseerr2 > 0\n",
    "selected &= data.pl_rade + data.pl_radeerr2 > 0\n",
    "for column in [\"pl_rade\", \"pl_radeerr1\", \"pl_radeerr2\", \"pl_masse\", \"pl_masseerr1\", \"pl_masseerr2\"]:\n",
    "    selected &= np.isfinite(data[column]) & (np.abs(data[column]) > 0)\n",
    "data = pd.DataFrame(data[selected])\n",
    "    \n",
    "log_radius = np.log10(np.array(data.pl_rade))\n",
    "log_radius_err = 0.5 * np.array(np.log10(data.pl_rade+data.pl_radeerr1) - np.log10(data.pl_rade+data.pl_radeerr2))\n",
    "log_mass = np.log10(np.array(data.pl_masse))\n",
    "log_mass_err = 0.5 * np.array(np.log10(data.pl_masse+data.pl_masseerr1) - np.log10(data.pl_masse+data.pl_masseerr2))\n",
    "\n",
    "plt.errorbar(log_radius, log_mass, xerr=log_radius_err, yerr=log_mass_err, fmt=\".k\")\n",
    "plt.xlabel(\"log10(radius / Earth radius)\")\n",
    "plt.ylabel(\"log10(mass / Earth mass)\");"
   ]
  },
  {
   "cell_type": "markdown",
   "metadata": {},
   "source": [
    "To fit a model to these data, our model will have 3 parameters: the slope $A$, the intercept $B$, and the log of the line width $\\log(\\Sigma_M)$.\n",
    "To start, let's choose broad uniform priors on these parameters:\n",
    "\n",
    "$$\n",
    "\\begin{eqnarray}\n",
    "p(A) &=& \\left\\{\\begin{array}{ll}\n",
    "1/10 & \\mathrm{if}\\,-5 < A < 5 \\\\\n",
    "0 & \\mathrm{otherwise} \\\\\n",
    "\\end{array}\\right. \\\\\n",
    "p(B) &=& \\left\\{\\begin{array}{ll}\n",
    "1/10 & \\mathrm{if}\\,-5 < B < 5 \\\\\n",
    "0 & \\mathrm{otherwise} \\\\\n",
    "\\end{array}\\right. \\\\\n",
    "p(\\log(\\Sigma_M)) &=& \\left\\{\\begin{array}{ll}\n",
    "1/10 & \\mathrm{if}\\,-5 < \\log(\\Sigma_M) < 5 \\\\\n",
    "0 & \\mathrm{otherwise} \\\\\n",
    "\\end{array}\\right.\n",
    "\\end{eqnarray}\n",
    "$$\n",
    "\n",
    "Then, the log-likelihood function will be\n",
    "\n",
    "$$\n",
    "\\log p(\\{M_n\\}\\,|\\,A,\\,B,\\,\\log(\\Sigma_M)) = -\\frac{1}{2}\\sum_{n=1}^N \\left[\\frac{(\\log_{10} M_n/M_\\oplus - A\\,\\log_{10}R_n/R_\\oplus - B)^2}{{\\Sigma_M}^2 + {\\sigma_n}^2} + \\log(2\\,\\pi\\,({\\Sigma_M}^2 + {\\sigma_n}^2))\\right]\n",
    "$$\n",
    "\n",
    "[**Note:** the second normalization term is needed in this model because we are fitting for $\\Sigma_M$ and the second term is *not* a constant.]\n",
    "\n",
    "Another way of writing this model that might not be familiar is the following:\n",
    "\n",
    "$$\n",
    "\\begin{eqnarray}\n",
    "A &\\sim& \\mathrm{Uniform}(-5,\\,5) \\\\\n",
    "B &\\sim& \\mathrm{Uniform}(-5,\\,5) \\\\\n",
    "\\log(\\sigma) &\\sim& \\mathrm{Uniform}(-5,\\,5) \\\\\n",
    "\\log_{10} M_n/M_\\oplus &\\sim& \\mathrm{Normal}\\left(A\\,\\log_{10}R_n/R_\\oplus + B,\\,\\sqrt{{\\Sigma_M}^2 + {\\sigma_n}^2}\\right)\n",
    "\\end{eqnarray}\n",
    "$$\n",
    "\n",
    "This is the way that a model like this is often defined in statistics and it will be useful when we implement out model in PyMC3 so take a moment to make sure that you understand the notation.\n",
    "\n",
    "Now, let's implement this model in PyMC3.\n",
    "The documentation for the distributions available in PyMC3's modeling language can be [found here](https://docs.pymc.io/api/distributions/continuous.html) and these will come in handy as you write your model."
   ]
  },
  {
   "cell_type": "code",
   "execution_count": null,
   "metadata": {},
   "outputs": [],
   "source": [
    "import pymc3 as pm\n",
    "\n",
    "with pm.Model() as model:\n",
    "    \n",
    "    # Define the priors on each parameter. For example, the\n",
    "    # definition of \"A\" will look something like the following:\n",
    "    A = pm.Uniform(\"A\", lower=-5, upper=5)\n",
    "    \n",
    "    # Based on the definition of \"A\", define \"B\" and \"logS\" here:\n",
    "    # Note: for the following cells to work, you must call these\n",
    "    # variables \"B\" and \"logS\" exactly.\n",
    "    \n",
    "    # YOUR CODE GOES HERE...\n",
    "    \n",
    "    # Define the likelihood below this line. A few tips:\n",
    "    #  1. For mathematical operations like \"exp\", you can't use\n",
    "    #     numpy. Instead, use the mathematical operations defined\n",
    "    #     in \"pm.math\".\n",
    "    #  2. To condition on data, you use the \"observed\" keyword\n",
    "    #     argument to any distribution. In this case, we want to\n",
    "    #     use the \"Normal\" distribution (look up the docs for\n",
    "    #     this).\n",
    "    \n",
    "    # YOUR CODE GOES HERE...\n",
    "    \n",
    "    # This is how you will sample the model. Take a look at the\n",
    "    # docs to see that other parameters that are available.\n",
    "    trace = pm.sample(draws=2000, tune=2000, target_accept=0.9)"
   ]
  },
  {
   "cell_type": "markdown",
   "metadata": {},
   "source": [
    "Now since we now have samples, let's make some diagnostic plots.\n",
    "The first plot to look at is the \"traceplot\" implemented in PyMC3.\n",
    "In this plot, you'll see the marginalized distribution for each parameter on the left and the trace plot (parameter value as a function of step number) on the right.\n",
    "In each panel, you should see at least two lines with different colors.\n",
    "These are the results of different independent chains and if the results are substantially different in the different chains then there is probably something going wrong."
   ]
  },
  {
   "cell_type": "code",
   "execution_count": null,
   "metadata": {},
   "outputs": [],
   "source": [
    "pm.traceplot(trace, varnames=[\"A\", \"B\", \"logS\"]);"
   ]
  },
  {
   "cell_type": "markdown",
   "metadata": {},
   "source": [
    "It's also good to quantify that \"looking substantially different\" argument.\n",
    "This is implemented in PyMC3 as the \"summary\" function.\n",
    "In this table, some of the key columns to look at are `n_eff` and `Rhat`.\n",
    "* `n_eff` shows an estimate of the number of effective (or independent) samples for that parameter. In this case, `n_eff` should probably be around 500 per chain (there should have been at least 2 chains run depending on your computer).\n",
    "* `Rhat` shows the [Gelman–Rubin statistic](https://docs.pymc.io/api/diagnostics.html#pymc3.diagnostics.gelman_rubin) and it should be close to 1."
   ]
  },
  {
   "cell_type": "code",
   "execution_count": null,
   "metadata": {},
   "outputs": [],
   "source": [
    "pm.summary(trace, varnames=[\"A\", \"B\", \"logS\"])"
   ]
  },
  {
   "cell_type": "markdown",
   "metadata": {},
   "source": [
    "The last diagnostic plot that we'll make here is the [corner plot made using corner.py](https://corner.readthedocs.io).\n",
    "The easiest way to do this using PyMC3 is to first convert the trace to a [Pandas DataFrame](https://pandas.pydata.org/) and then pass that to `corner.py`.\n",
    "In this plot, we'll compare to the results from [Wolfgang, Rogers & Ford (2016)](https://arxiv.org/abs/1504.07557) where they fit a similar dataset.\n",
    "This should be qualitatively consistent. If not, try to debug your model to see what went wrong."
   ]
  },
  {
   "cell_type": "code",
   "execution_count": null,
   "metadata": {},
   "outputs": [],
   "source": [
    "import corner  # https://corner.readthedocs.io\n",
    "samples = pm.trace_to_dataframe(trace, varnames=[\"A\", \"B\", \"logS\"])\n",
    "corner.corner(samples, truths=[1.3, np.log10(2.7), None]);"
   ]
  },
  {
   "cell_type": "markdown",
   "metadata": {},
   "source": [
    "It's also useful to look at the predictions of the model in the data space.\n",
    "In other words: what mass-radius relation does our fit suggest?\n",
    "In most applications it's often easiest to track these predictions using `pm.Deterministic` nodes in the model, but that would make things more complicated for this example, so we'll compute the predictions directly using the values from the chain."
   ]
  },
  {
   "cell_type": "code",
   "execution_count": null,
   "metadata": {},
   "outputs": [],
   "source": [
    "# Plot the data\n",
    "plt.errorbar(log_radius, log_mass, xerr=log_radius_err, yerr=log_mass_err, fmt=\".k\", label=\"data\")\n",
    "\n",
    "# Compute the predicted mass-radius relation for each sample\n",
    "x_pred = np.linspace(-0.1, 0.8, 5000)\n",
    "lines = trace[\"A\"][:, None] * x_pred[None, :] + trace[\"B\"][:, None]\n",
    "\n",
    "# Compute percentiles of the prediction\n",
    "mu_pred = np.median(lines, axis=0)\n",
    "mn = lines - np.exp(trace[\"logS\"])[:, None]\n",
    "mn_pred = np.percentile(mn, 16, axis=0)\n",
    "mx = lines + np.exp(trace[\"logS\"])[:, None]\n",
    "mx_pred = np.percentile(mx, 84, axis=0)\n",
    "\n",
    "# Plot the prediction\n",
    "plt.fill_between(x_pred, mn_pred, mx_pred, color=\"C0\", alpha=0.5)\n",
    "plt.plot(x_pred, mu_pred, color=\"C0\", label=\"predicted\")\n",
    "\n",
    "# Format the plot\n",
    "plt.legend(fontsize=12)\n",
    "plt.xlabel(\"log10(radius / Earth radius)\")\n",
    "plt.ylabel(\"log10(mass / Earth mass)\")\n",
    "plt.xlim(x_pred[0], x_pred[-1]);"
   ]
  },
  {
   "cell_type": "markdown",
   "metadata": {},
   "source": [
    "**Extra credit:** Here are a few suggestions for things to try out while getting more familiar with PyMC3:\n",
    "\n",
    "1. Try initializing the parameters using the `testval` argument to the distributions. Does this improve performance in this case? It will substantially improve performance in more complicated examples.\n",
    "2. Try changing the priors on the parameters. For example, try the \"uninformative\" prior [recommended by Jake VanderPlas on his blog](http://jakevdp.github.io/blog/2014/06/14/frequentism-and-bayesianism-4-bayesian-in-python/#Prior-on-Slope-and-Intercept).\n",
    "3. Try re-running your code using a `pm.Deterministic` node to track the value of $\\Sigma_M$ itself. This isn't so useful in this case, but you'll see that deterministic nodes can come in very handy later.\n",
    "4. Try including a mixture model to handle outliers. See [my blog post](https://dfm.io/posts/mixture-models/) for more info about what this model looks like.\n",
    "5. Incorporate the uncertainties on radius. This can be handled by [analytically marginalizing over the \"true\" radius and mass](https://dfm.io/posts/fitting-a-plane/) or by directly fitting for the true mass and radius of each planet by including these as parameters in the PyMC3 model. The benefit of using PyMC3 is that it should be able to handle large numbers of parameters for exactly this type of problem.\n",
    "\n",
    "**Continue to the next part of the tutorial:** [Part 2: Fitting a transit using exoplanet](02_transit.ipynb)"
   ]
  }
 ],
 "metadata": {
  "kernelspec": {
   "display_name": "Python 3",
   "language": "python",
   "name": "python3"
  },
  "language_info": {
   "codemirror_mode": {
    "name": "ipython",
    "version": 3
   },
   "file_extension": ".py",
   "mimetype": "text/x-python",
   "name": "python",
   "nbconvert_exporter": "python",
   "pygments_lexer": "ipython3",
   "version": "3.7.0"
  }
 },
 "nbformat": 4,
 "nbformat_minor": 2
}
