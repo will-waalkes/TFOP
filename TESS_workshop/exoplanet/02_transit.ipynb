{
 "cells": [
  {
   "cell_type": "markdown",
   "metadata": {},
   "source": [
    "# An introduction to PyMC3 & exoplanet for astronomers\n",
    "\n",
    "By: **Dan Foreman-Mackey**\n",
    "\n",
    "In this tutorial, we will learn how to use [exoplanet](https://exoplanet.dfm.io) and [PyMC3](https://docs.pymc.io) to do Markov chain Monte Carlo (MCMC) with a focus on fitting [TESS](https://en.wikipedia.org/wiki/Transiting_Exoplanet_Survey_Satellite) data.\n",
    "But first, we have to do some setup:"
   ]
  },
  {
   "cell_type": "code",
   "execution_count": null,
   "metadata": {},
   "outputs": [],
   "source": [
    "# We want to see plots in the browser\n",
    "%matplotlib inline"
   ]
  },
  {
   "cell_type": "code",
   "execution_count": null,
   "metadata": {},
   "outputs": [],
   "source": [
    "# This is the one dependency missing on the science platform\n",
    "!pip install -q -U corner exoplanet\n",
    "\n",
    "# Let's make the plots look a little nicer\n",
    "from matplotlib import rcParams\n",
    "rcParams[\"savefig.dpi\"] = 100\n",
    "rcParams[\"figure.dpi\"] = 100\n",
    "rcParams[\"font.size\"] = 16\n",
    "\n",
    "# The installation of Theano is a little broken (but it'll work\n",
    "# fine for our purposes). Deal with those issues as follows:\n",
    "import os\n",
    "import warnings\n",
    "os.environ[\"MKL_THREADING_LAYER\"] = \"GNU\"\n",
    "warnings.filterwarnings(\"ignore\", category=DeprecationWarning)\n",
    "warnings.filterwarnings(\"ignore\", category=FutureWarning)"
   ]
  },
  {
   "cell_type": "markdown",
   "metadata": {},
   "source": [
    "## Part 2: Fitting a transit with exoplanet\n",
    "\n",
    "In this example, we will actually fit some real TESS data.\n",
    "Specifically we will fit the light curve of the first transiting planet that was discovered by TESS: [Pi Mensae c](https://arxiv.org/abs/1809.05967).\n",
    "A more complete example of fitting these data can be found on the [exoplanet docs](https://exoplanet.dfm.io/en/stable/tutorials/tess/).\n",
    "\n",
    "I've taken the liberty of doing the photometry, preprocessing, and de-trending in advance so you can [download the data from GitHub](https://github.com/dfm/tess-tutorial).\n",
    "The script that I used to prepare this file [is also available in the same repository](https://github.com/dfm/tess-tutorial/blob/master/notebooks/preprocess.ipynb).\n",
    "\n",
    "Here's how we download and plot the data:"
   ]
  },
  {
   "cell_type": "code",
   "execution_count": null,
   "metadata": {},
   "outputs": [],
   "source": [
    "import numpy as np\n",
    "from astropy.io import fits\n",
    "import matplotlib.pyplot as plt\n",
    "\n",
    "with fits.open(\"https://github.com/dfm/tess-tutorial/raw/master/data/pimen-ffi.fits\") as hdus:\n",
    "    data = hdus[1].data\n",
    "    hdr = hdus[1].header\n",
    "    \n",
    "texp = hdr[\"FRAMETIM\"] * hdr[\"NUM_FRM\"]\n",
    "texp /= 60.0 * 60.0 * 24.0\n",
    "    \n",
    "x = np.array(data[\"time\"], dtype=np.float64)\n",
    "y = np.array(data[\"flux\"], dtype=np.float64)\n",
    "\n",
    "plt.plot(x, y, \".k\")\n",
    "plt.xlabel(\"time [days]\")\n",
    "plt.ylabel(\"relative flux [ppt]\");"
   ]
  },
  {
   "cell_type": "markdown",
   "metadata": {},
   "source": [
    "You can see that I have cut out the transits of our planet and saved only the data near transit.\n",
    "The fluxes are measured in parts per thousand because I find that those units tend to have the easiest order of magnitude to work with for transits.\n",
    "The times are measured relative to the midpoint of Sector 1.\n",
    "\n",
    "When pre-processing the data, I ran [BLS](http://docs.astropy.org/en/stable/stats/bls.html) to determine the period and phase of this candidate.\n",
    "Let's use these values to plot the folded light curve:"
   ]
  },
  {
   "cell_type": "code",
   "execution_count": null,
   "metadata": {},
   "outputs": [],
   "source": [
    "period_guess = 6.26554\n",
    "t0_guess = -1.19041\n",
    "\n",
    "x_fold = (x - t0_guess + 0.5*period_guess) % period_guess - 0.5*period_guess\n",
    "\n",
    "plt.scatter(x_fold, y, c=x)\n",
    "plt.xlabel(\"time since transit [days]\")\n",
    "plt.ylabel(\"relative flux [ppt]\");"
   ]
  },
  {
   "cell_type": "markdown",
   "metadata": {},
   "source": [
    "Since the data points are colored by time, we can see that the depth of each transit is at least qualitatively consistent.\n",
    "\n",
    "Next up we will specify the model.\n",
    "The syntax is the same as in the previous example, but there is a lot more going on here.\n",
    "The inline comments should give most of the relevant information, but you can also take a look at [the exoplanet docs](https://exoplanet.dfm.io/en/stable/) for more information about the extra features provided."
   ]
  },
  {
   "cell_type": "code",
   "execution_count": null,
   "metadata": {},
   "outputs": [],
   "source": [
    "import pymc3 as pm\n",
    "import theano.tensor as tt\n",
    "\n",
    "# The tradition is to import \"exoplanet\" with the shorthand \"xo\" \n",
    "import exoplanet as xo\n",
    "\n",
    "with pm.Model() as model:\n",
    "    \n",
    "    # A parameter describing the observational uncertainties\n",
    "    logs = pm.Uniform(\"logs\", lower=-5, upper=0,\n",
    "                      testval=np.log(np.std(y)))\n",
    "    \n",
    "    # The mean flux of the star in the units of the data. This should\n",
    "    # be about zero because we're measuring relative flux, but if I\n",
    "    # got the baseline slightly wrong in my preprocessing, this can\n",
    "    # protect us.\n",
    "    mean_flux = pm.Normal(\"mean_flux\", mu=0, sd=1)\n",
    "    \n",
    "    # A prior on the limb darkening parameters. We'll use the\n",
    "    # parameterization recommended by Kipping (2013) based on triangular\n",
    "    # sampling.\n",
    "    u = xo.distributions.QuadLimbDark(\"u\")\n",
    "    \n",
    "    # We'll constrain the prior to be within 1% of the guess that we\n",
    "    # provided. Making this range too large could result in issues since\n",
    "    # we're not fitting the full dataset and a model with half the period\n",
    "    # would be equivalent.\n",
    "    period = pm.Uniform(\"period\",\n",
    "                        lower=period_guess*0.99,\n",
    "                        upper=period_guess*1.01,\n",
    "                        testval=period_guess)\n",
    "    \n",
    "    # We can see from the plot above that the reference transit time\n",
    "    # is pretty close to correct so we'll constrain it to be within\n",
    "    # 0.1 days of the initial guess.\n",
    "    t0 = pm.Uniform(\"t0\", lower=t0_guess-0.1, upper=t0_guess+0.1)\n",
    "    \n",
    "    # To sample the radius ratio and impact parameter, we'll use the\n",
    "    # parameterization for the joint density recently recommended by\n",
    "    # Espinoza (2018).\n",
    "    r, b = xo.distributions.get_joint_radius_impact(\n",
    "        min_radius=0.005, max_radius=0.05, testval_r=0.015)\n",
    "    \n",
    "    # Now set up a Keplerian orbit with the expected parameters\n",
    "    orbit = xo.orbits.KeplerianOrbit(\n",
    "        period=period, t0=t0, b=b)\n",
    "    \n",
    "    # The light curve model is computed using \"starry\"\n",
    "    star = xo.StarryLightCurve(u)\n",
    "    light_curve = star.get_light_curve(\n",
    "        orbit=orbit, r=r, t=x, texp=texp)\n",
    "    \n",
    "    # The returned light curve will always have the shape (ntime, nplanet)\n",
    "    # but we only have one planet so we can \"squeeze\" the result to remove\n",
    "    # the last axis. Also: don't forget to convert to ppt and add in the\n",
    "    # stellar flux parameter\n",
    "    light_curve = tt.squeeze(star.get_light_curve(\n",
    "        orbit=orbit, r=r, t=x, texp=texp))*1e3 + mean_flux\n",
    "    \n",
    "    # Finally, this is the likelihoood for the observations\n",
    "    pm.Normal(\"obs\", mu=light_curve, sd=tt.exp(logs), observed=y)"
   ]
  },
  {
   "cell_type": "markdown",
   "metadata": {},
   "source": [
    "After defining the model, it can be useful to look at a plot of the initial model (as defined using the `testval` parameters above) to make sure that it's not completely unreasonable.\n",
    "In PyMC3 (and therefore also exoplanet) when you define a model, none of the operations are actually *executed*.\n",
    "Instead, the previous cell just defines the *relationships* between parameters.\n",
    "exoplanet [comes with some features](https://exoplanet.dfm.io/en/stable/user/api/#utilities) that make it easier to inspect the model after you have defined it.\n",
    "For example, we can use `xo.utils.eval_in_model` to plot the initial light curve:"
   ]
  },
  {
   "cell_type": "code",
   "execution_count": null,
   "metadata": {},
   "outputs": [],
   "source": [
    "# Plot the data as above\n",
    "plt.scatter(x_fold, y, c=x)\n",
    "\n",
    "# Compute the initial transit model evaluated at each data point\n",
    "# and overplot that\n",
    "with model:\n",
    "    transit_model = xo.utils.eval_in_model(light_curve)\n",
    "\n",
    "# For plotting purposes, sort the folded times\n",
    "inds = np.argsort(x_fold)\n",
    "plt.plot(x_fold[inds], transit_model[inds], \"k\", label=\"initial model\")\n",
    "\n",
    "plt.legend(fontsize=12, loc=3)\n",
    "plt.xlabel(\"time since transit [days]\")\n",
    "plt.ylabel(\"relative flux [ppt]\");"
   ]
  },
  {
   "cell_type": "markdown",
   "metadata": {},
   "source": [
    "That doesn't look perfect (that's why we're here after all!) but it'll do as a starting point.\n",
    "\n",
    "Now we can sample the posterior for this model.\n",
    "We won't directly use the `pm.sample` function like we did in the previous tutorial because there are significant covariances between some of the parameters and the built in sampler can't handle that.\n",
    "exoplanet [comes with a wrapper around the \"sample\" function that adds support for covariances](https://exoplanet.dfm.io/en/stable/tutorials/pymc3-extras/#custom-tuning-schedule) and this makes a big difference here."
   ]
  },
  {
   "cell_type": "code",
   "execution_count": null,
   "metadata": {},
   "outputs": [],
   "source": [
    "np.random.seed(42)\n",
    "sampler = xo.PyMC3Sampler(finish=200)\n",
    "with model:\n",
    "    sampler.tune(tune=2000, step_kwargs=dict(target_accept=0.9))\n",
    "    trace = sampler.sample(draws=2000)"
   ]
  },
  {
   "cell_type": "markdown",
   "metadata": {},
   "source": [
    "After sampling using this method, we can still do the usual convergence checks.\n",
    "For example, we can make a trace plot:"
   ]
  },
  {
   "cell_type": "code",
   "execution_count": null,
   "metadata": {},
   "outputs": [],
   "source": [
    "pm.traceplot(trace, varnames=[\"period\", \"t0\"]);"
   ]
  },
  {
   "cell_type": "markdown",
   "metadata": {},
   "source": [
    "And look at the quantitative summary to make sure that the effective number of samples is high enough to trust the result:"
   ]
  },
  {
   "cell_type": "code",
   "execution_count": null,
   "metadata": {},
   "outputs": [],
   "source": [
    "pm.summary(trace)"
   ]
  },
  {
   "cell_type": "markdown",
   "metadata": {},
   "source": [
    "And we can make a corner plot of the key parameters:"
   ]
  },
  {
   "cell_type": "code",
   "execution_count": null,
   "metadata": {},
   "outputs": [],
   "source": [
    "import corner\n",
    "varnames = [\"period\", \"t0\", \"r\", \"b\"]\n",
    "labels = [\"period [days]\", \"transit time [days]\", \"radius ratio\", \"impact parameter\"]\n",
    "samples = pm.trace_to_dataframe(trace, varnames=varnames)\n",
    "corner.corner(samples[[\"period\", \"t0\", \"r__0\", \"b__0\"]], labels=labels);"
   ]
  },
  {
   "cell_type": "markdown",
   "metadata": {},
   "source": [
    "Finally, we can plot the posterior constraint on the transit model:"
   ]
  },
  {
   "cell_type": "code",
   "execution_count": null,
   "metadata": {},
   "outputs": [],
   "source": [
    "# Compute the posterior parameters\n",
    "median_period = np.median(trace[\"period\"])\n",
    "median_t0 = np.median(trace[\"t0\"])\n",
    "median_x_fold = (x - median_t0 + 0.5*median_period) % median_period - 0.5*median_period\n",
    "median_inds = np.argsort(median_x_fold)\n",
    "\n",
    "# Plot the data\n",
    "plt.scatter(median_x_fold, y, c=x)\n",
    "\n",
    "# This is a little convoluted, but we'll take 100 random samples from the chain\n",
    "# and for each sample, we'll evaluate the predicted transit model and overplot it\n",
    "with model:\n",
    "    # Pre-compile a function to evaluate the light curve\n",
    "    func = xo.utils.get_theano_function_for_var(light_curve)\n",
    "    \n",
    "    # Loop over 100 random samples\n",
    "    for sample in xo.utils.get_samples_from_trace(trace, size=100):\n",
    "        \n",
    "        # Fold the times based on the period and phase of this sample\n",
    "        fold = (x - sample[\"t0\"]+0.5*sample[\"period\"])%sample[\"period\"]-0.5*sample[\"period\"]\n",
    "        inds = np.argsort(fold)\n",
    "        \n",
    "        # Evaluate the light curve\n",
    "        args = xo.utils.get_args_for_theano_function(sample)\n",
    "        transit_model = func(*args)\n",
    "        \n",
    "        # And plot the light curve model\n",
    "        plt.plot(fold[inds], transit_model[inds], \"k\", lw=0.5, alpha=0.2)\n",
    "\n",
    "# Format the plot\n",
    "plt.xlim(-0.39, 0.39)\n",
    "plt.xlabel(\"time since transit [days]\")\n",
    "plt.ylabel(\"relative flux [ppt]\");"
   ]
  },
  {
   "cell_type": "code",
   "execution_count": null,
   "metadata": {},
   "outputs": [],
   "source": []
  }
 ],
 "metadata": {
  "kernelspec": {
   "display_name": "Python 3",
   "language": "python",
   "name": "python3"
  },
  "language_info": {
   "codemirror_mode": {
    "name": "ipython",
    "version": 3
   },
   "file_extension": ".py",
   "mimetype": "text/x-python",
   "name": "python",
   "nbconvert_exporter": "python",
   "pygments_lexer": "ipython3",
   "version": "3.7.2"
  }
 },
 "nbformat": 4,
 "nbformat_minor": 2
}
