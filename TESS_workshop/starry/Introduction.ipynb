{
 "cells": [
  {
   "cell_type": "markdown",
   "metadata": {},
   "source": [
    "# Introduction to `starry`\n",
    "Here we'll briefly go over the basics of spherical harmonic maps with `starry`. Make sure to also check out the [tutorials page](https://rodluger.github.io/starry/tutorials.html) for more examples on how to use the code."
   ]
  },
  {
   "cell_type": "markdown",
   "metadata": {},
   "source": [
    "## Imports & setup"
   ]
  },
  {
   "cell_type": "code",
   "execution_count": null,
   "metadata": {},
   "outputs": [],
   "source": [
    "%matplotlib inline"
   ]
  },
  {
   "cell_type": "code",
   "execution_count": null,
   "metadata": {},
   "outputs": [],
   "source": [
    "%run workshop_utils/notebook_setup.py"
   ]
  },
  {
   "cell_type": "code",
   "execution_count": null,
   "metadata": {},
   "outputs": [],
   "source": [
    "import matplotlib.pyplot as plt\n",
    "import numpy as np"
   ]
  },
  {
   "cell_type": "markdown",
   "metadata": {},
   "source": [
    "## Introduction\n",
    "A *spherical harmonic map* is a vector of spherical harmonic coefficients, indexed by increasing degree $l$ and order $m$:\n",
    "\n",
    "$y = \\{Y_{0,0}, \\, Y_{1,-1}, \\, Y_{1,0}, \\, Y_{1,1} \\, Y_{2,-2}, \\, Y_{2,-1}, \\, Y_{2,0} \\, Y_{2,1}, \\, Y_{2,2}, \\, ...\\}$.\n",
    "\n",
    "For reference, here's what the first several spherical harmonic degrees look like:\n",
    "\n",
    "![](img/ylms.png)\n",
    "\n",
    "Each row corresponds to a different degree $l$, starting at $l = 0$. Within each row, the harmonics extend from order $m = -l$ to order $m = l$. Together, the spherical harmonics form a complete basis set on the sphere, so in principle *any surface map* can be expanded in terms of these functions.\n",
    "\n",
    "As an example, suppose we have the following map vector:\n",
    "\n",
    "```\n",
    "y = [1.00,  0.22,  0.19,  0.11,  0.11,  0.07,  -0.11, 0.00,  -0.05,\n",
    "     0.12,  0.16,  -0.05, 0.06,  0.12,  0.05,  -0.10, 0.04,  -0.02,\n",
    "     0.01,  0.10,  0.08,  0.15,  0.13,  -0.11, -0.07, -0.14, 0.06,\n",
    "     -0.19, -0.02, 0.07,  -0.02, 0.07,  -0.01, -0.07, 0.04,  0.00]\n",
    "```\n",
    "\n",
    "This is how much each spherical harmonic is contributing to the sum:\n",
    "\n",
    "![](img/ylms_earth.png)\n",
    "\n",
    "If we add up all of the terms, we get the following image:\n",
    "\n",
    "![](img/earth5.png)\n",
    "\n",
    "which is the $l = 5$ spherical harmonic expansion of a map of the Earth! South America is to the left and Africa is toward the top right. It might still be hard to see, so here's what we would get if we carried the expansion up to degree $l = 20$:\n",
    "\n",
    "![](img/earth20.png)\n",
    "\n",
    "Before we dig into the code, one final cool thing about spherical harmonics is that they can be rotated, which makes them ideal for modeling planets, stars, and other celestial bodies:\n",
    "\n",
    "![](img/earth.gif)"
   ]
  },
  {
   "cell_type": "markdown",
   "metadata": {},
   "source": [
    "## Using `starry`\n",
    "OK, now that we've introduced the spherical harmonics, let's look at how we can use `starry` to model some celestial bodies.\n",
    "\n",
    "The first thing we should do is import `starry` and instantiate a `Map` object. This is the simplest way of creating a spherical harmonic map. The `Map` object takes a few arguments, the most important of which is `lmax`, the highest degree of the spherical harmonics used to describe the map. Let's create a fifth-order map:"
   ]
  },
  {
   "cell_type": "code",
   "execution_count": null,
   "metadata": {},
   "outputs": [],
   "source": [
    "import starry\n",
    "map = starry.Map(lmax=5)"
   ]
  },
  {
   "cell_type": "markdown",
   "metadata": {},
   "source": [
    "The `y` attribute of the map stores the spherical harmonic coefficients. We can see that our map is initialized to a constant map: "
   ]
  },
  {
   "cell_type": "code",
   "execution_count": null,
   "metadata": {},
   "outputs": [],
   "source": [
    "map.y"
   ]
  },
  {
   "cell_type": "markdown",
   "metadata": {},
   "source": [
    "By default, the $Y_{0,0}$ coefficient is set to unity, and all other coefficients are set to zero. Our map is therefore just the first spherical harmonic, which if you scroll up you'll see is that constant dark blue disk at the top of the first figure. We can also quickly visualize the map by calling the `show` method:"
   ]
  },
  {
   "cell_type": "code",
   "execution_count": null,
   "metadata": {},
   "outputs": [],
   "source": [
    "map.show()"
   ]
  },
  {
   "cell_type": "markdown",
   "metadata": {},
   "source": [
    "## Setting map coefficients"
   ]
  },
  {
   "cell_type": "markdown",
   "metadata": {},
   "source": [
    "Setting spherical harmonic coefficients is extremely easy: we can assign values directly to the map instance itself. Say we wish to set the coefficient of the spherical harmonic $Y_{5, -3}$ to $-2$. We simply run"
   ]
  },
  {
   "cell_type": "code",
   "execution_count": null,
   "metadata": {},
   "outputs": [],
   "source": [
    "map[5, -3] = -2"
   ]
  },
  {
   "cell_type": "markdown",
   "metadata": {},
   "source": [
    "We can check that the spherical harmonic vector (which is a flattened version of the image we showed above) has been updated accordingly:"
   ]
  },
  {
   "cell_type": "code",
   "execution_count": null,
   "metadata": {},
   "outputs": [],
   "source": [
    "map.y"
   ]
  },
  {
   "cell_type": "markdown",
   "metadata": {},
   "source": [
    "And here's what our map now looks like:"
   ]
  },
  {
   "cell_type": "code",
   "execution_count": null,
   "metadata": {},
   "outputs": [],
   "source": [
    "map.show()"
   ]
  },
  {
   "cell_type": "markdown",
   "metadata": {},
   "source": [
    "Just for fun, let's set two additional coefficients:"
   ]
  },
  {
   "cell_type": "code",
   "execution_count": null,
   "metadata": {},
   "outputs": [],
   "source": [
    "map[5, 0] = 2\n",
    "map[5, 4] = 1"
   ]
  },
  {
   "cell_type": "code",
   "execution_count": null,
   "metadata": {},
   "outputs": [],
   "source": [
    "map.show()"
   ]
  },
  {
   "cell_type": "markdown",
   "metadata": {},
   "source": [
    "One last note on visualizing maps: you can quickly animate the map by setting the map's rotation axis,"
   ]
  },
  {
   "cell_type": "code",
   "execution_count": null,
   "metadata": {},
   "outputs": [],
   "source": [
    "map.axis = [0, 1, 0]"
   ]
  },
  {
   "cell_type": "markdown",
   "metadata": {},
   "source": [
    "(in this case, $\\hat{y}$) and calling the `animate` method:"
   ]
  },
  {
   "cell_type": "code",
   "execution_count": null,
   "metadata": {},
   "outputs": [],
   "source": [
    "# You can also call `map.animate()`, but the routine in \n",
    "# the `workshop_utils` module is better for Jupyter notebooks!\n",
    "from workshop_utils import animate\n",
    "animate(map)"
   ]
  },
  {
   "cell_type": "markdown",
   "metadata": {},
   "source": [
    "## ★ Exercise 1"
   ]
  },
  {
   "cell_type": "markdown",
   "metadata": {},
   "source": [
    "Play around with setting different combinations of spherical harmonic coefficients, changing the map's rotation axis, and calling the `animate` method to see how the map changes."
   ]
  },
  {
   "cell_type": "code",
   "execution_count": null,
   "metadata": {},
   "outputs": [],
   "source": []
  },
  {
   "cell_type": "markdown",
   "metadata": {},
   "source": [
    "## Computing phase curves\n",
    "We've seen how to instantiate and manipulate maps, but what we really would like to do is compute light curves. So let's get to it. We'll use the same map as before:"
   ]
  },
  {
   "cell_type": "code",
   "execution_count": null,
   "metadata": {},
   "outputs": [],
   "source": [
    "map.reset()\n",
    "map[5, -3] = -2\n",
    "map[5, 0] = 2\n",
    "map[5, 4] = 1\n",
    "map.show()"
   ]
  },
  {
   "cell_type": "markdown",
   "metadata": {},
   "source": [
    "We will compute one full cycle of the phase curve by varying `theta` between 0 and 360 degrees. For simplicity, let's pick $\\hat{y}$ as our rotation axis."
   ]
  },
  {
   "cell_type": "code",
   "execution_count": null,
   "metadata": {},
   "outputs": [],
   "source": [
    "theta = np.linspace(0, 360, 100, endpoint=False)\n",
    "map.axis = [0, 1, 0]"
   ]
  },
  {
   "cell_type": "markdown",
   "metadata": {},
   "source": [
    "Computing the phase curve with `starry` is super easy:"
   ]
  },
  {
   "cell_type": "code",
   "execution_count": null,
   "metadata": {},
   "outputs": [],
   "source": [
    "F = map.flux(theta=theta)"
   ]
  },
  {
   "cell_type": "markdown",
   "metadata": {},
   "source": [
    "Plot the results:"
   ]
  },
  {
   "cell_type": "code",
   "execution_count": null,
   "metadata": {},
   "outputs": [],
   "source": [
    "plt.plot(theta, F)\n",
    "plt.xlabel(r'$\\theta$ (degrees)')\n",
    "plt.ylabel(r'Flux');"
   ]
  },
  {
   "cell_type": "markdown",
   "metadata": {},
   "source": [
    "## ★ Exercise 2"
   ]
  },
  {
   "cell_type": "markdown",
   "metadata": {},
   "source": [
    "Why is there no phase curve?! Set a few other spherical harmonic coefficients to see if you can get a phase curve, and try to figure out the general rule for the *null space* of the phase curve problem."
   ]
  },
  {
   "cell_type": "code",
   "execution_count": null,
   "metadata": {},
   "outputs": [],
   "source": []
  },
  {
   "cell_type": "markdown",
   "metadata": {},
   "source": [
    "## ★ Exercise 3"
   ]
  },
  {
   "cell_type": "markdown",
   "metadata": {},
   "source": [
    "Plot the phase curve of your new map for a few different values of the axis of rotation."
   ]
  },
  {
   "cell_type": "code",
   "execution_count": null,
   "metadata": {},
   "outputs": [],
   "source": []
  },
  {
   "cell_type": "markdown",
   "metadata": {},
   "source": [
    "## Computing occultation light curves"
   ]
  },
  {
   "cell_type": "markdown",
   "metadata": {},
   "source": [
    "Finally, we're ready to discuss occultation light curves! Let's occult the following map with a small occultor and compute the resulting light curve."
   ]
  },
  {
   "cell_type": "code",
   "execution_count": null,
   "metadata": {},
   "outputs": [],
   "source": [
    "map.reset()\n",
    "map[2, -1] = -0.3\n",
    "map[3, 0] = 0.1\n",
    "map[4, 1] = 0.3\n",
    "map.show()"
   ]
  },
  {
   "cell_type": "markdown",
   "metadata": {},
   "source": [
    "Consider an occultor of radius $r_o = 0.1$ moving along the $+x$ direction at $y_o = -0.5$. Suppose that the occulted body rotates by $30^\\circ$ about the $y$-axis in the meantime. Let's define our variables:"
   ]
  },
  {
   "cell_type": "code",
   "execution_count": null,
   "metadata": {},
   "outputs": [],
   "source": [
    "npts = 1000\n",
    "ro = 0.1\n",
    "xo = np.linspace(-3, 3, npts)\n",
    "yo = -0.5\n",
    "theta = np.linspace(0, 30, npts, endpoint=False)\n",
    "map.axis = [0, 1, 0]"
   ]
  },
  {
   "cell_type": "markdown",
   "metadata": {},
   "source": [
    "Computing the occultation light curve is now easy:"
   ]
  },
  {
   "cell_type": "code",
   "execution_count": null,
   "metadata": {},
   "outputs": [],
   "source": [
    "F = map.flux(theta=theta, xo=xo, yo=yo, ro=ro)"
   ]
  },
  {
   "cell_type": "markdown",
   "metadata": {},
   "source": [
    "Here's the rather odd-looking light curve:"
   ]
  },
  {
   "cell_type": "code",
   "execution_count": null,
   "metadata": {},
   "outputs": [],
   "source": [
    "plt.plot(theta, F, lw=2)\n",
    "plt.xlabel(r'$\\theta$ (degrees)')\n",
    "plt.ylabel(r'Flux');"
   ]
  },
  {
   "cell_type": "markdown",
   "metadata": {},
   "source": [
    "## ★ Exercise 4"
   ]
  },
  {
   "cell_type": "markdown",
   "metadata": {},
   "source": [
    "Interpret the various features of the light curve. Then vary the occultor size and trajectory, overplot the resulting light curves, and interpret the results."
   ]
  },
  {
   "cell_type": "code",
   "execution_count": null,
   "metadata": {},
   "outputs": [],
   "source": []
  }
 ],
 "metadata": {
  "kernelspec": {
   "display_name": "Python 3",
   "language": "python",
   "name": "python3"
  },
  "language_info": {
   "codemirror_mode": {
    "name": "ipython",
    "version": 3
   },
   "file_extension": ".py",
   "mimetype": "text/x-python",
   "name": "python",
   "nbconvert_exporter": "python",
   "pygments_lexer": "ipython3",
   "version": "3.6.8"
  }
 },
 "nbformat": 4,
 "nbformat_minor": 2
}
