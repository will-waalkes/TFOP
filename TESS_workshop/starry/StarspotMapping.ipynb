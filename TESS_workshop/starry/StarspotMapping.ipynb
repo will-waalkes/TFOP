{
 "cells": [
  {
   "cell_type": "markdown",
   "metadata": {},
   "source": [
    "# Mapping stellar surfaces with `starry`"
   ]
  },
  {
   "cell_type": "markdown",
   "metadata": {},
   "source": [
    "In this tutorial, we'll create a random starspot map and generate a corresponding light curve as TESS might see it. We'll then use `starry` to invert this light curves and infer what the star actually looks like.\n",
    "\n",
    "**NOTE:** *I assume some basic familiarity with `starry`. If you are new to the code, check out the [tutorials page](https://rodluger.github.io/starry/tutorials.html).*"
   ]
  },
  {
   "cell_type": "markdown",
   "metadata": {},
   "source": [
    "## Imports & setup"
   ]
  },
  {
   "cell_type": "code",
   "execution_count": null,
   "metadata": {},
   "outputs": [],
   "source": [
    "%matplotlib inline"
   ]
  },
  {
   "cell_type": "code",
   "execution_count": null,
   "metadata": {},
   "outputs": [],
   "source": [
    "%run workshop_utils/notebook_setup"
   ]
  },
  {
   "cell_type": "code",
   "execution_count": null,
   "metadata": {},
   "outputs": [],
   "source": [
    "import matplotlib.pyplot as plt\n",
    "import numpy as np\n",
    "import starry"
   ]
  },
  {
   "cell_type": "markdown",
   "metadata": {},
   "source": [
    "I added some handy utils to the `workshop_utils` module (in the same directory as this notebook). Let's import them:"
   ]
  },
  {
   "cell_type": "code",
   "execution_count": null,
   "metadata": {},
   "outputs": [],
   "source": [
    "from workshop_utils import animate, set_random, MAP, orbit"
   ]
  },
  {
   "cell_type": "markdown",
   "metadata": {},
   "source": [
    "## Instantiate a `starry` map"
   ]
  },
  {
   "cell_type": "markdown",
   "metadata": {},
   "source": [
    "Let's instantiate a 10th degree spherical harmonic map. We'll give it an inclination of 60 degrees with respect to the observer."
   ]
  },
  {
   "cell_type": "code",
   "execution_count": null,
   "metadata": {},
   "outputs": [],
   "source": [
    "# Highest spherical harmonic degree of the map\n",
    "lmax = 10\n",
    "\n",
    "# The total number of spherical harmonic coefficients\n",
    "N = (lmax + 1) ** 2\n",
    "\n",
    "# Instantiate the star, a `Map` object\n",
    "map = starry.Map(lmax)\n",
    "\n",
    "# Specify the axis of rotation of the star with some\n",
    "# simple trig\n",
    "inc = 60 * (np.pi / 180)\n",
    "axis = [0, np.sin(inc), np.cos(inc)]\n",
    "map.axis = axis"
   ]
  },
  {
   "cell_type": "markdown",
   "metadata": {},
   "source": [
    "Let's give the map a random set of spherical harmonic coefficients. At each degree $l$, we'll draw the coefficients from a zero-mean gaussian with a standard deviation $\\alpha$ that decreases with $l$: \n",
    "\n",
    "$\\alpha(l) \\propto \\mathrm{e}^{-\\frac{l^2}{2\\sigma_l^2}}$."
   ]
  },
  {
   "cell_type": "code",
   "execution_count": null,
   "metadata": {},
   "outputs": [],
   "source": [
    "# Set the randomizer seed (change this for completely different maps!)\n",
    "np.random.seed(41)\n",
    "set_random(map, sigma_l=2.5, norm=0.01)"
   ]
  },
  {
   "cell_type": "markdown",
   "metadata": {},
   "source": [
    "We need to be a little careful at this point, since a purely random map can actually have a *negative* intensity at certain points on the surface. The scale of the features is `0.01` (the `norm` constant in the call to `set_random` above), so we can enforce positive intensity everywhere by setting the baseline to be unity:"
   ]
  },
  {
   "cell_type": "code",
   "execution_count": null,
   "metadata": {},
   "outputs": [],
   "source": [
    "map[0,0] = 1.0"
   ]
  },
  {
   "cell_type": "markdown",
   "metadata": {},
   "source": [
    "OK, now let's plot the power spectrum of the map to see what we're dealing with. Recall that the power at a given degree $l$ is just the sum of the squares of the spherical harmonic coefficients of that degree."
   ]
  },
  {
   "cell_type": "code",
   "execution_count": null,
   "metadata": {},
   "outputs": [],
   "source": [
    "power_true = [np.sum(map[l, :] ** 2) for l in range(lmax + 1)]\n",
    "l = np.arange(lmax + 1)\n",
    "plt.plot(l, power_true, \"o-\", label=\"Measured\")\n",
    "plt.yscale(\"log\")\n",
    "plt.xlabel(\"Spherical harmonic degree\")\n",
    "plt.ylabel(\"Power\");"
   ]
  },
  {
   "cell_type": "markdown",
   "metadata": {},
   "source": [
    "Cool. On to the fun part: let's animate the map as it rotates. I implented a handy routine called `animate` in the `workshop_utils` module, so let's use that."
   ]
  },
  {
   "cell_type": "code",
   "execution_count": null,
   "metadata": {},
   "outputs": [],
   "source": [
    "animate(map)"
   ]
  },
  {
   "cell_type": "markdown",
   "metadata": {},
   "source": [
    "## ★ Exercise 1"
   ]
  },
  {
   "cell_type": "markdown",
   "metadata": {},
   "source": [
    "Sample the power spectrum a few times and get a feel for how different maps with the same power spectrum can look. Then, vary the scale of the power spectrum to see how the scale of the surface features changes."
   ]
  },
  {
   "cell_type": "markdown",
   "metadata": {},
   "source": [
    "## Generate a synthetic TESS light curve"
   ]
  },
  {
   "cell_type": "markdown",
   "metadata": {},
   "source": [
    "Now let's generate a simulated light curve. In the spirit of TESS, let's produce a light curve sampled every 2 minutes for 27 days. We'll give the star a period of **9.67 days**. We'll also add some photon noise to make things fun."
   ]
  },
  {
   "cell_type": "code",
   "execution_count": null,
   "metadata": {},
   "outputs": [],
   "source": [
    "# Generate the light curve using the `flux` method\n",
    "time = np.arange(0, 27, 1.0 / (24 * 30))\n",
    "per = 9.67\n",
    "theta = 360. / per * time\n",
    "flux_true = map.flux(theta=theta)\n",
    "\n",
    "# Add noise\n",
    "flux_err = 0.05 * np.std(flux_true)\n",
    "flux = flux_true + flux_err * np.random.randn(len(flux_true))"
   ]
  },
  {
   "cell_type": "markdown",
   "metadata": {},
   "source": [
    "Plot the data:"
   ]
  },
  {
   "cell_type": "code",
   "execution_count": null,
   "metadata": {},
   "outputs": [],
   "source": [
    "fig, ax = plt.subplots(1, figsize=(14, 5))\n",
    "plt.plot(time, flux, 'k.', ms=2, alpha=0.3, label=\"Observed\")\n",
    "plt.plot(time, flux_true, label=\"True\")\n",
    "plt.legend(numpoints=3)\n",
    "plt.xlabel(\"Time (days)\")\n",
    "plt.ylabel(\"Flux\");"
   ]
  },
  {
   "cell_type": "markdown",
   "metadata": {},
   "source": [
    "## ★ Exercise 2"
   ]
  },
  {
   "cell_type": "markdown",
   "metadata": {},
   "source": [
    "Produce light curves for your different samples in Exercise 1 and get a feel for all the different light curves you can get from similarly-behaved maps."
   ]
  },
  {
   "cell_type": "markdown",
   "metadata": {},
   "source": [
    "## Now let's try to recover the map!"
   ]
  },
  {
   "cell_type": "markdown",
   "metadata": {},
   "source": [
    "Here we will attempt to \"invert\" the light curve and fit for the actual map that generated it. In general, we would have to solve for many things: the period of the star, the inclination, the power spectrum, as well as every single spherical harmonic coefficient. But *for simplicity*, let's assume we know (or have good constraints on) the period and inclination of the star."
   ]
  },
  {
   "cell_type": "markdown",
   "metadata": {},
   "source": [
    "Even with the period and inclination fixed, we still have a **lot** of parameters to solve for. A degree $l=10$ map has $(l + 1)^2 = 121$ spherical harmonic coefficients. We could imagine dumping the problem into something like `emcee` and crunching away with MCMC. But with 121 coefficients, we'd need *at least* 300 or so walkers, and it would probably take us (I'm guessing) on the order of 50,000 chain iterations to get a decent estimate of the posterior. That's 15 *million* function calls. The `starry` algorithm is pretty fast, but for a light curve this long, a single evaluation takes about 0.1 seconds. All together, that's about 2 million seconds of run time, or **just over 23 CPU days**.\n",
    "\n",
    "**Yikes.**"
   ]
  },
  {
   "cell_type": "markdown",
   "metadata": {},
   "source": [
    "Fortunately, there's a **MUCH** faster way of doing this."
   ]
  },
  {
   "cell_type": "markdown",
   "metadata": {},
   "source": [
    "### The power of a linear model"
   ]
  },
  {
   "cell_type": "markdown",
   "metadata": {},
   "source": [
    "If you read our [paper](http://adsabs.harvard.edu/abs/2019AJ....157...64L), recall that the `starry` model for a series of flux measurements $\\mathbf{f}$ is given by\n",
    "\n",
    "$\\mathbf{f} = \\mathbf{S}^\\mathrm{T} \\mathbf{A} \\ \\mathbf{R} \\ \\mathbf{R} \\ \\mathbf{y}$\n",
    "\n",
    "where $\\mathbf{y}$ is the vector of spherical harmonic coefficients and all the other variables are matrices determined by the geometry of the problem. So if we define\n",
    "\n",
    "$\\mathcal{A} \\equiv \\mathbf{S}^\\mathrm{T} \\mathbf{A} \\ \\mathbf{R} \\ \\mathbf{R}$\n",
    "\n",
    "the computation of the light curve model is a **purely linear problem**:\n",
    "\n",
    "$\\mathbf{f} = \\mathcal{A} \\ \\mathbf{y}$\n",
    "\n",
    "The equation above tells us how to compute the flux $\\mathbf{f}$ given a set of spherical harmonic coefficients $\\mathbf{y}$. But we are interested in the *opposite* problem: given $\\mathbf{f}$, how do we compute $\\mathbf{y}$?"
   ]
  },
  {
   "cell_type": "markdown",
   "metadata": {},
   "source": [
    "Since everything is linear and are errors are gaussian (by construction!), the **solution is analytic!** If you're interested, check out section 2.1 of [this paper](http://adsabs.harvard.edu/abs/2018AJ....156...99L) for the derivation. But for now, let's just take the result for granted:\n",
    "\n",
    "$\\hat{\\mathbf{y}} = \\left(\\mathcal{A}^\\mathrm{T} \\mathcal{A} + \\sigma^2\\mathbf{\\Lambda}^{-1}\\right)^{-1}\\mathcal{A}^\\mathrm{T}\\mathbf{f}$\n",
    "\n",
    "$\\hat{\\Sigma} = \\sigma^2\\left(\\mathcal{A}^\\mathrm{T} \\mathcal{A} + \\sigma^2\\mathbf{\\Lambda}^{-1}\\right)^{-1}$\n",
    "\n",
    "where $\\hat{\\mathbf{y}}$ is the MAP (maximum a posteriori) estimate of the map coefficients, and $\\hat{\\Sigma}$ is the covariance matrix of that estimate. I've assumed that our light curve $\\mathbf{f}$ has homoscedastic noise (all data points are uncorrelated and have the same error $\\sigma$). Also, note that since we're doing Bayesian inference, we need a prior on the map coefficients! That's what the matrix $\\mathbf{\\Lambda}$ is: it's the prior covariance of the coefficients.\n",
    "\n",
    "Note that the equations above give us the full posterior over map coefficients. Since the problem is linear, all the posteriors are gaussian, and are completely described by the mean and the variance. So if we can solve those two equations, **we are done!** No need for MCMC."
   ]
  },
  {
   "cell_type": "markdown",
   "metadata": {},
   "source": [
    "## ★ Exercise 3"
   ]
  },
  {
   "cell_type": "markdown",
   "metadata": {},
   "source": [
    "Derive the equations presented above for the MAP estimate and its variance. A good starting point is section 2.1 of [this paper](http://adsabs.harvard.edu/abs/2018AJ....156...99L). *Hint*: The MAP solution is obtained by maximizing the log posterior, so you'll want to differentiate it with respect to $\\mathbf{y}$ and set the expression to zero. And the variance of a gaussian is the inverse of its Hessian, so you'll need to take the *second* derivative."
   ]
  },
  {
   "cell_type": "markdown",
   "metadata": {},
   "source": [
    "### Let's do it!"
   ]
  },
  {
   "cell_type": "markdown",
   "metadata": {},
   "source": [
    "**NOTE:** *Version 1.0.0 of `starry` will implement the linear solver as the `MAP` method of a `Map` instance. But for now, I implemented this method in the `workshop_utils` module, so we can skip all the tedious linear algebra!*\n",
    "\n",
    "The one bit of work we need to do is figure out our prior. If we happen to *know* the power spectrum the map was generated from (which we do!), the variance of each coefficient is just:"
   ]
  },
  {
   "cell_type": "code",
   "execution_count": null,
   "metadata": {},
   "outputs": [],
   "source": [
    "lam = np.array([power_true[l] for l in range(lmax + 1) for m in range(-l, l + 1)])\n",
    "lam[0] = np.inf"
   ]
  },
  {
   "cell_type": "markdown",
   "metadata": {},
   "source": [
    "In our case, $\\mathbf{\\Lambda}$ is a diagonal matrix: the coefficients are all uncorrelated. In general, we will not know the actual power spectrum of the map, but in principle it is something we could **fit** for!"
   ]
  },
  {
   "cell_type": "markdown",
   "metadata": {},
   "source": [
    "Anyways, let's get to it. We'll time the operation just for fun. Recall that the time to beat is **23 days.**"
   ]
  },
  {
   "cell_type": "code",
   "execution_count": null,
   "metadata": {},
   "outputs": [],
   "source": [
    "%%time\n",
    "yhat, yvar = MAP(lmax, flux, flux_err, lam=lam, axis=axis, theta=theta)"
   ]
  },
  {
   "cell_type": "markdown",
   "metadata": {},
   "source": [
    "## Visualize the results"
   ]
  },
  {
   "cell_type": "markdown",
   "metadata": {},
   "source": [
    "Let's load the MAP coefficients into the `map_ml` (for maximum likelihood) object and compute the model:"
   ]
  },
  {
   "cell_type": "code",
   "execution_count": null,
   "metadata": {},
   "outputs": [],
   "source": [
    "map_ml = starry.Map(lmax)\n",
    "map_ml.axis = axis\n",
    "map_ml[:, :] = yhat\n",
    "model_ml = np.array(map_ml.flux(theta=theta))"
   ]
  },
  {
   "cell_type": "markdown",
   "metadata": {},
   "source": [
    "Let's also instantiate 50 other maps and populate them with random draws from the posterior (which is easy, since we have a covariance matrix). We'll put these maps in the list `map_draw`. We'll also compute the model for each one."
   ]
  },
  {
   "cell_type": "code",
   "execution_count": null,
   "metadata": {},
   "outputs": [],
   "source": [
    "nsamp = 50\n",
    "y_draw = np.empty((nsamp, map.N))\n",
    "model_draw = np.empty((nsamp, len(time)))\n",
    "np.random.seed(43)\n",
    "map_draw = starry.Map(lmax)\n",
    "map_draw.axis = map.axis\n",
    "for i in range(nsamp):\n",
    "    y_draw[i] = np.random.multivariate_normal(yhat, yvar)\n",
    "    map_draw[:, :] = y_draw[i]\n",
    "    model_draw[i] = np.array(map_draw.flux(theta=theta))"
   ]
  },
  {
   "cell_type": "markdown",
   "metadata": {},
   "source": [
    "Now we plot the MAP light curve alongside the random posterior draws superimposed on the data:"
   ]
  },
  {
   "cell_type": "code",
   "execution_count": null,
   "metadata": {},
   "outputs": [],
   "source": [
    "plt.plot(time, flux, 'k.', ms=2, alpha=0.3, label=\"observed\")\n",
    "for i in range(nsamp):\n",
    "    plt.plot(time, model_draw[i], 'C1', alpha=0.1, label=\"sample\" if i == 0 else None)\n",
    "plt.plot(time, model_ml, 'C1', label=\"MAP\")\n",
    "plt.ylabel(\"Flux\")\n",
    "plt.xlabel(\"Time\")\n",
    "plt.legend(numpoints=5, fontsize=12);"
   ]
  },
  {
   "cell_type": "markdown",
   "metadata": {},
   "source": [
    "Here's what the MAP star looks like next to the true star:"
   ]
  },
  {
   "cell_type": "code",
   "execution_count": null,
   "metadata": {},
   "outputs": [],
   "source": [
    "animate(map, map_ml, titles=[\"True\", \"MAP\"])"
   ]
  },
  {
   "cell_type": "markdown",
   "metadata": {},
   "source": [
    "And here's four random samples:"
   ]
  },
  {
   "cell_type": "code",
   "execution_count": null,
   "metadata": {},
   "outputs": [],
   "source": [
    "map_draws = []\n",
    "for i in range(4):\n",
    "    map_draws.append(starry.Map(lmax))\n",
    "    map_draws[-1].axis = map.axis\n",
    "    map_draws[-1][:, :] = y_draw[i]\n",
    "animate(map, map_ml, *map_draws, res=75, vmin=0.28, vmax=0.36,\n",
    "        titles=[\"True\", \"MAP\", \"Sample\", \"Sample\", \"Sample\", \"Sample\"])"
   ]
  },
  {
   "cell_type": "markdown",
   "metadata": {},
   "source": [
    "If we plot the power spectrum of the inferred maps next to the power spectrum of the true map, we see they agree pretty well! But for $l =$ 3, 5, 7, and 9, the MAP power is *orders of magnitude* smaller. Why is that?"
   ]
  },
  {
   "cell_type": "code",
   "execution_count": null,
   "metadata": {},
   "outputs": [],
   "source": [
    "power_ml = [np.sum(map_ml[l,:] ** 2) for l in range(lmax + 1)]\n",
    "l = np.arange(lmax + 1)\n",
    "plt.plot(l, power_true, label=\"Actual\")\n",
    "plt.plot(l, power_ml, 'o', label=\"MAP\")\n",
    "for i in range(50):\n",
    "    map_draw[:, :] = y_draw[i]\n",
    "    power_draw = [np.sum(map_draw[l,:] ** 2) for l in range(lmax + 1)]\n",
    "    plt.plot(l, power_draw, color=\"C1\", alpha=0.1, label=\"Sample\" if i == 0 else None, zorder=-10)\n",
    "plt.yscale(\"log\")\n",
    "plt.xlabel(\"Degree\")\n",
    "plt.ylabel(\"Power\")\n",
    "plt.legend();"
   ]
  },
  {
   "cell_type": "markdown",
   "metadata": {},
   "source": [
    "## ★ Exercise 4"
   ]
  },
  {
   "cell_type": "markdown",
   "metadata": {},
   "source": [
    "Increase the noise in the light curve and investigate how our MAP estimate and the posterior samples vary."
   ]
  },
  {
   "cell_type": "markdown",
   "metadata": {},
   "source": [
    "## ★ Exercise 5"
   ]
  },
  {
   "cell_type": "markdown",
   "metadata": {},
   "source": [
    "Above, we assumed we knew the exact values of the period and inclination, which is rarely ever (actually *never*) the case. Think about how one might adapt this approach to the general case where the period and the inclination must be inferred from the data."
   ]
  },
  {
   "cell_type": "markdown",
   "metadata": {},
   "source": [
    "## Let's add some occultations to the mix"
   ]
  },
  {
   "cell_type": "markdown",
   "metadata": {},
   "source": [
    "Let's add a small companion to the star (a planet or a low mass star) and generate a light curve that also includes occultations. For simplicity we'll ignore the secondary eclipse (the companion passing behind the star). We'll also put the companion on a very short period, close-in orbit so that we observe several occultations.\n",
    "\n",
    "The `worskop_utils` module implements a simple `orbit` function that returns the cartesian position of a body as a function of time in a Keplerian orbit. We'll use that to specify the trajectory of the occultor."
   ]
  },
  {
   "cell_type": "markdown",
   "metadata": {},
   "source": [
    "**NOTE:** *In the beta version of `starry`, we'd instantiate `Primary`, `Secondary`, and `System` objects to compute the Keplerian solution and the full light curve. These are deprecated in version `1.0.0`, which will take advantage of the awesome functionality in the `exoplanet` package. Stay tuned.*"
   ]
  },
  {
   "cell_type": "code",
   "execution_count": null,
   "metadata": {},
   "outputs": [],
   "source": [
    "# Occultor radius (relative to star)\n",
    "ro = 0.1\n",
    "\n",
    "# Cartesian position as a function of time\n",
    "xo, yo, zo = orbit(time, porb=2.954, a=2.1, inc=88.5, tref=1.0)\n",
    "\n",
    "# When the occultor is behind the star, artifically put it \n",
    "# at infinity so `starry` doesn't compute an occultation\n",
    "xo[zo < 0] = -np.inf\n",
    "\n",
    "# Compute the flux without and with the occultations\n",
    "flux_true_no_occ = map.flux(theta=theta)\n",
    "flux_true = map.flux(theta=theta, xo=xo, yo=yo, ro=ro)\n",
    "\n",
    "# Add noise\n",
    "flux_err = 0.1 * np.std(flux_true)\n",
    "flux = flux_true + flux_err * np.random.randn(len(flux_true))"
   ]
  },
  {
   "cell_type": "markdown",
   "metadata": {},
   "source": [
    "Let's plot our new light curve:"
   ]
  },
  {
   "cell_type": "code",
   "execution_count": null,
   "metadata": {},
   "outputs": [],
   "source": [
    "fig, ax = plt.subplots(1, figsize=(14, 5))\n",
    "plt.plot(time, flux, 'k.', ms=2, alpha=0.3, label=\"Observed\")\n",
    "plt.plot(time, flux_true_no_occ, color=\"C0\", ls=\"--\", label=\"No occultation\")\n",
    "plt.plot(time, flux_true, color=\"C0\", label=\"True\")\n",
    "plt.legend(numpoints=3, fontsize=12)\n",
    "plt.xlabel(\"Time (days)\")\n",
    "plt.ylabel(\"Flux\");"
   ]
  },
  {
   "cell_type": "markdown",
   "metadata": {},
   "source": [
    "As before, let's invert the light curve and compute the posterior over maps. As before, the time to beat is about **23 days**:"
   ]
  },
  {
   "cell_type": "code",
   "execution_count": null,
   "metadata": {},
   "outputs": [],
   "source": [
    "%%time\n",
    "yhat, yvar = MAP(lmax, flux, flux_err, lam=lam, axis=axis, theta=theta, xo=xo, yo=yo, ro=ro)"
   ]
  },
  {
   "cell_type": "markdown",
   "metadata": {},
   "source": [
    "Now instantiate a new `starry` map and compute the MAP light curve:"
   ]
  },
  {
   "cell_type": "code",
   "execution_count": null,
   "metadata": {},
   "outputs": [],
   "source": [
    "map_ml_occ = starry.Map(lmax)\n",
    "map_ml_occ.axis = axis\n",
    "map_ml_occ[:, :] = yhat\n",
    "model_ml_occ = np.array(map_ml_occ.flux(theta=theta, xo=xo, yo=yo, ro=ro))"
   ]
  },
  {
   "cell_type": "markdown",
   "metadata": {},
   "source": [
    "Compute 50 posterior samples as before:"
   ]
  },
  {
   "cell_type": "code",
   "execution_count": null,
   "metadata": {},
   "outputs": [],
   "source": [
    "nsamp = 50\n",
    "y_draw = np.empty((nsamp, map.N))\n",
    "model_draw = np.empty((nsamp, len(time)))\n",
    "np.random.seed(43)\n",
    "map_draw = starry.Map(lmax)\n",
    "map_draw.axis = map.axis\n",
    "for i in range(nsamp):\n",
    "    y_draw[i] = np.random.multivariate_normal(yhat, yvar)\n",
    "    map_draw[:, :] = y_draw[i]\n",
    "    model_draw[i] = np.array(map_draw.flux(theta=theta, xo=xo, yo=yo, ro=ro))"
   ]
  },
  {
   "cell_type": "markdown",
   "metadata": {},
   "source": [
    "Plot the models:"
   ]
  },
  {
   "cell_type": "code",
   "execution_count": null,
   "metadata": {},
   "outputs": [],
   "source": [
    "plt.plot(time, flux, 'k.', ms=2, alpha=0.3, label=\"observed\")\n",
    "for i in range(nsamp):\n",
    "    plt.plot(time, model_draw[i], 'C1', alpha=0.1, label=\"sample\" if i == 0 else None)\n",
    "plt.plot(time, model_ml_occ, 'C1', label=\"MAP\")\n",
    "plt.ylabel(\"Flux\")\n",
    "plt.xlabel(\"Time\")\n",
    "plt.legend(numpoints=5, fontsize=12);"
   ]
  },
  {
   "cell_type": "markdown",
   "metadata": {},
   "source": [
    "Take a look at the power spectrum of the inferred maps:"
   ]
  },
  {
   "cell_type": "code",
   "execution_count": null,
   "metadata": {},
   "outputs": [],
   "source": [
    "power_ml = [np.sum(map_ml_occ[l,:] ** 2) for l in range(lmax + 1)]\n",
    "l = np.arange(lmax + 1)\n",
    "plt.plot(l, power_true, label=\"Actual\")\n",
    "plt.plot(l, power_ml, 'o', label=\"MAP\")\n",
    "for i in range(50):\n",
    "    map_draw[:, :] = y_draw[i]\n",
    "    power_draw = [np.sum(map_draw[l,:] ** 2) for l in range(lmax + 1)]\n",
    "    plt.plot(l, power_draw, color=\"C1\", alpha=0.1, label=\"Sample\" if i == 0 else None, zorder=-10)\n",
    "plt.yscale(\"log\")\n",
    "plt.xlabel(\"Degree\")\n",
    "plt.ylabel(\"Power\")\n",
    "plt.legend();"
   ]
  },
  {
   "cell_type": "markdown",
   "metadata": {},
   "source": [
    "Finally, let's compare the true map, the rotation only solution, and the rotation + occultation solution:"
   ]
  },
  {
   "cell_type": "code",
   "execution_count": null,
   "metadata": {},
   "outputs": [],
   "source": [
    "animate(map, map_ml, map_ml_occ, titles=[\"True\", \"Rotation only\", \"Rotation + Occultation\"])"
   ]
  },
  {
   "cell_type": "markdown",
   "metadata": {},
   "source": [
    "## ★ Exercise 6"
   ]
  },
  {
   "cell_type": "markdown",
   "metadata": {},
   "source": [
    "Plot some posterior map samples, and comment on how they differ from the rotation only case. "
   ]
  },
  {
   "cell_type": "markdown",
   "metadata": {},
   "source": [
    "## We're done!"
   ]
  },
  {
   "cell_type": "markdown",
   "metadata": {},
   "source": [
    "That's it for now! Check out the [documentation](https://rodluger.github.io/starry/) for more examples and tutorials, and remember to keep an eye on the [dev branch](https://github.com/rodluger/starry/tree/dev) for the upcoming release of `starry 1.0.0`. Feel free to [email me](mailto:rluger@flatironinstitute.org) with questions/suggestions and ideas on how to improve `starry`!"
   ]
  }
 ],
 "metadata": {
  "kernelspec": {
   "display_name": "Python 3",
   "language": "python",
   "name": "python3"
  },
  "language_info": {
   "codemirror_mode": {
    "name": "ipython",
    "version": 3
   },
   "file_extension": ".py",
   "mimetype": "text/x-python",
   "name": "python",
   "nbconvert_exporter": "python",
   "pygments_lexer": "ipython3",
   "version": "3.6.8"
  }
 },
 "nbformat": 4,
 "nbformat_minor": 2
}
