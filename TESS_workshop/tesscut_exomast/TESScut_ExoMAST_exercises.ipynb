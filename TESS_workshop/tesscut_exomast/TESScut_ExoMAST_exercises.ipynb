{
 "cells": [
  {
   "cell_type": "markdown",
   "metadata": {},
   "source": [
    "# TESScut and ExoMAST: Supplimental Exercises\n",
    "\n",
    "1. [Explore a different weird TCE](#1.-Explore-a-different-weird-TCE)\n",
    "2. [Find a known exoplanet in TESS data](#2.-Find-a-known-exoplanet-in-TESS-data)\n",
    "3. [Look at a flaring star in the TESS field](#3.-Look-at-a-flaring-star-in-the-TESS-field)\n",
    "4. [Examine stellar variability](#4.-Examine-stellar-variability)"
   ]
  },
  {
   "cell_type": "code",
   "execution_count": null,
   "metadata": {},
   "outputs": [],
   "source": [
    "# For querying for data\n",
    "import requests\n",
    "from astroquery.mast import Tesscut\n",
    "\n",
    "# For manipulating data\n",
    "import numpy as np\n",
    "\n",
    "from astropy.table import Table\n",
    "from astropy.coordinates import SkyCoord\n",
    "\n",
    "import re\n",
    "\n",
    "# For matplotlib plotting\n",
    "import matplotlib\n",
    "%matplotlib inline\n",
    "\n",
    "import matplotlib.pyplot as plt\n",
    "import matplotlib.animation as animation\n",
    "\n",
    "# For animation display\n",
    "from matplotlib import rc\n",
    "from IPython.display import HTML\n",
    "rc('animation', html='jshtml')\n",
    "\n",
    "# For bokeh plotting\n",
    "from bokeh import plotting\n",
    "plotting.output_notebook()"
   ]
  },
  {
   "cell_type": "markdown",
   "metadata": {},
   "source": [
    "## Useful functions from the tutorial\n",
    "\n",
    "The functions used in the tutorial notebook are included here for easy access."
   ]
  },
  {
   "cell_type": "code",
   "execution_count": null,
   "metadata": {},
   "outputs": [],
   "source": [
    "def json_to_table(fields, data):\n",
    "    \"\"\"\"\n",
    "    Takes a json object and turns it into an astropy table.\n",
    "\n",
    "    Parameters\n",
    "    ----------\n",
    "    fields : list of dicts\n",
    "        Of the form [{colname:,datatype:,description:}, ...]\n",
    "    data : list of dicts\n",
    "       Of the form [{col1:, col2:, ...},{col1:, col2:, ...}, ...]\n",
    "\n",
    "    Returns\n",
    "    -------\n",
    "    response : `astropy.table.Table`\n",
    "    \"\"\"\n",
    "\n",
    "    rx = re.compile(r\"varchar\\((\\d+)\\)\")\n",
    "    \n",
    "    data_table = Table()\n",
    "\n",
    "    for col, atype in [(x['colname'], x['datatype']) for x in fields]:\n",
    "        col = col.strip()\n",
    "        if \"varchar\" in atype:\n",
    "            match = rx.search(atype)\n",
    "            atype = \"U\" + match.group(1)\n",
    "        if atype == \"real\":\n",
    "            atype = \"float\"\n",
    "        data_table[col] = np.array([x.get(col, None) for x in data], dtype=atype)\n",
    "\n",
    "    return data_table\n"
   ]
  },
  {
   "cell_type": "code",
   "execution_count": null,
   "metadata": {},
   "outputs": [],
   "source": [
    "def find_index(btjd):\n",
    "    \"\"\"\n",
    "    Given a time as a Barycentric TESS Julian Date (BTJD) timestamp, return the closest index in a table\n",
    "    that is assumed to have a TIME column that is also in BTJD\"\"\"\n",
    "    \n",
    "    return (np.abs(cutout_table['TIME'] - btjd)).argmin()"
   ]
  },
  {
   "cell_type": "code",
   "execution_count": null,
   "metadata": {},
   "outputs": [],
   "source": [
    "def make_animation(data_array, start_frame=0, end_frame=None, vmin=None, vmax=None, delay=50):\n",
    "    \"\"\"\n",
    "    Function that takes an array where each frame is a 2D image array and make an animated plot\n",
    "    that runs through the frames.\n",
    "    \n",
    "    Note: This can take a long time to run if you have a lot of frames.    \n",
    "    Parameters\n",
    "    ----------\n",
    "    data_array : array\n",
    "        Array of 2D images.\n",
    "    start_frame : int\n",
    "        The index of the initial frame to show. Default is the first frame.\n",
    "    end_frame : int\n",
    "        The index of the final frame to show. Default is the last frame.\n",
    "    vmin : float\n",
    "        Data range min for the colormap. Defaults to data minimum value.\n",
    "    vmax : float\n",
    "        Data range max for the colormap. Defaults to data maximum value.\n",
    "    delay: \n",
    "        Delay before the next frame is shown in milliseconds.\n",
    "\n",
    "    Returns\n",
    "    -------\n",
    "    response : `animation.FuncAnimation`\n",
    "    \"\"\"\n",
    "    \n",
    "    if not vmin:\n",
    "        vmin = np.min(data_array)\n",
    "    if not vmax:\n",
    "        vmax = np.max(data_array)\n",
    "        \n",
    "    if not end_frame:\n",
    "        end_frame = len(data_array) - 1 # set to the end of the array\n",
    "        \n",
    "    num_frames = end_frame - start_frame + 1 # include the end frame\n",
    "        \n",
    "    def animate(i, fig, ax, binarytab, start=0):\n",
    "        ax.set_title(\"Epoch #\" + str(i+start))\n",
    "        im = ax.imshow(binarytab[i+start], cmap=plt.cm.YlGnBu_r, vmin=vmin, vmax=vmax)\n",
    "        return im,\n",
    "    \n",
    "    # Create initial plot.\n",
    "    fig, ax = plt.subplots(figsize=(10,10))\n",
    "    ax.imshow(data_array[start_frame], cmap=plt.cm.YlGnBu_r, vmin=vmin, vmax=vmax)\n",
    "\n",
    "    ani = animation.FuncAnimation(fig, animate, fargs=(fig, ax, data_array, start_frame), frames=num_frames, \n",
    "                                  interval=delay, repeat_delay=1000)\n",
    "    \n",
    "    plt.close()\n",
    "    \n",
    "    return ani"
   ]
  },
  {
   "cell_type": "markdown",
   "metadata": {},
   "source": [
    "## 1. Explore a different weird TCE\n",
    "\n",
    "These TIC IDs also have TCEs that \"look weird\"\n",
    "- 00206462606\n",
    "- 00206544316\n",
    "\n",
    "Work through the steps from the tutorial, and see if you can determine what is going on with them."
   ]
  },
  {
   "cell_type": "code",
   "execution_count": null,
   "metadata": {},
   "outputs": [],
   "source": []
  },
  {
   "cell_type": "markdown",
   "metadata": {},
   "source": [
    "## 2. Find a known exoplanet in TESS data\n",
    "\n",
    "The planet WASP-18 b was observed by TESS. Figure out its TIC ID and TCE number, and then pull and plot the associated TESS light curve.\n",
    "\n",
    "To get you started, the query form for resolving an exoplanet in the exomast API is `exoplanets/identifiers/?name=<planet name>`. Documentation __[here](https://exo.mast.stsci.edu/docs/#resolving-exoplanets)__"
   ]
  },
  {
   "cell_type": "code",
   "execution_count": null,
   "metadata": {},
   "outputs": [],
   "source": []
  },
  {
   "cell_type": "markdown",
   "metadata": {},
   "source": [
    "## 3. Look at a flaring star in the TESS field\n",
    "\n",
    "TIC ID 231017428 has shows several flare events. Explore these events in the DV data timeseries, and see if you can make a movie where the largest flare is visible.\n"
   ]
  },
  {
   "cell_type": "code",
   "execution_count": null,
   "metadata": {},
   "outputs": [],
   "source": []
  },
  {
   "cell_type": "markdown",
   "metadata": {},
   "source": [
    "## 4. Examine stellar variability\n",
    "\n",
    "TIC ID 25118964, shows visible variability (and some flares). See if you can make a video that shows this variability."
   ]
  },
  {
   "cell_type": "code",
   "execution_count": null,
   "metadata": {},
   "outputs": [],
   "source": []
  }
 ],
 "metadata": {
  "kernelspec": {
   "display_name": "Python 3",
   "language": "python",
   "name": "python3"
  },
  "language_info": {
   "codemirror_mode": {
    "name": "ipython",
    "version": 3
   },
   "file_extension": ".py",
   "mimetype": "text/x-python",
   "name": "python",
   "nbconvert_exporter": "python",
   "pygments_lexer": "ipython3",
   "version": "3.6.8"
  }
 },
 "nbformat": 4,
 "nbformat_minor": 2
}
