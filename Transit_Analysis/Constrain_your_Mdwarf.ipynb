{
 "cells": [
  {
   "cell_type": "code",
   "execution_count": 1,
   "metadata": {},
   "outputs": [],
   "source": [
    "import matplotlib.pyplot as plt\n",
    "import numpy as np\n",
    "import astropy.constants as c\n",
    "import astropy.units as u"
   ]
  },
  {
   "cell_type": "markdown",
   "metadata": {},
   "source": [
    "## Apparent Magnitudes"
   ]
  },
  {
   "cell_type": "code",
   "execution_count": 2,
   "metadata": {},
   "outputs": [],
   "source": [
    "magnitudes = {}"
   ]
  },
  {
   "cell_type": "code",
   "execution_count": 3,
   "metadata": {},
   "outputs": [],
   "source": [
    "#TOI 237\n",
    "\n",
    "magnitudes['TOI 237'] = {}\n",
    "\n",
    "magnitudes['TOI 237']['d_pc'] = 38.11\n",
    "magnitudes['TOI 237']['Tmag'] = 13.4102\n",
    "magnitudes['TOI 237']['B'] = 17.718\n",
    "magnitudes['TOI 237']['V'] = 16.37\n",
    "magnitudes['TOI 237']['Ic'] = 13.4102\n",
    "magnitudes['TOI 237']['J'] = 11.74\n",
    "magnitudes['TOI 237']['H'] = 11.19\n",
    "magnitudes['TOI 237']['K'] = 10.896\n",
    "magnitudes['TOI 237']['Gaia_bp'] = 16.4447\n",
    "magnitudes['TOI 237']['Gaia_rp'] = 13.5016\n",
    "magnitudes['TOI 237']['GaiaG'] = 14.754\n",
    "\n",
    "#TOI 122\n",
    "\n",
    "magnitudes['TOI 122'] = {}\n",
    "\n",
    "magnitudes['TOI 122']['d_pc'] = 62.12\n",
    "magnitudes['TOI 122']['Tmag'] = 13.084\n",
    "magnitudes['TOI 122']['B'] = 17.061\n",
    "magnitudes['TOI 122']['V'] = 15.526\n",
    "magnitudes['TOI 122']['Ic'] = 13.084\n",
    "magnitudes['TOI 122']['J'] = 11.531\n",
    "magnitudes['TOI 122']['H'] = 11.02\n",
    "magnitudes['TOI 122']['K'] = 10.771\n",
    "magnitudes['TOI 122']['Gaia_bp'] = 15.7971\n",
    "magnitudes['TOI 122']['Gaia_rp'] = 13.1523\n",
    "magnitudes['TOI 122']['GaiaG'] = 14.3357\n",
    "\n",
    "#TOI 203\n",
    "\n",
    "magnitudes['TOI 203'] = {}\n",
    "\n",
    "magnitudes['TOI 203']['d_pc'] = 24.807\n",
    "magnitudes['TOI 203']['Tmag'] = 12.2423\n",
    "magnitudes['TOI 203']['B'] = 12.2423\n",
    "magnitudes['TOI 203']['V'] = 15.017\n",
    "magnitudes['TOI 203']['Ic'] = 12.2423\n",
    "magnitudes['TOI 203']['J'] = 10.56\n",
    "magnitudes['TOI 203']['H'] = 10.053\n",
    "magnitudes['TOI 203']['K'] = 9.722\n",
    "magnitudes['TOI 203']['Gaia_bp'] = 15.2793\n",
    "magnitudes['TOI 203']['Gaia_rp'] = 12.3345\n",
    "magnitudes['TOI 203']['GaiaG'] = 13.588\n",
    "\n",
    "# TOIs 2269.01-0.3\n",
    "\n",
    "magnitudes['TOI 2269'] = {}\n",
    "\n",
    "magnitudes['TOI 2269']['d_pc'] = 82.1896\n",
    "magnitudes['TOI 2269']['Tmag'] = 11.9521\n",
    "magnitudes['TOI 2269']['B'] = 15.038\n",
    "magnitudes['TOI 2269']['V'] = 13.476\n",
    "magnitudes['TOI 2269']['Ic'] = 11.9521\n",
    "magnitudes['TOI 2269']['J'] = 10.765\n",
    "magnitudes['TOI 2269']['H'] = 10.107\n",
    "magnitudes['TOI 2269']['K'] = 9.928\n",
    "magnitudes['TOI 2269']['Gaia_bp'] = 13.8533\n",
    "magnitudes['TOI 2269']['Gaia_rp'] = 11.9622\n",
    "magnitudes['TOI 2269']['GaiaG'] = 12.9097"
   ]
  },
  {
   "cell_type": "markdown",
   "metadata": {},
   "source": [
    "## Mann+ 2015 Table 2 Coefficients\n",
    "\n",
    "For temperature calculations"
   ]
  },
  {
   "cell_type": "code",
   "execution_count": 4,
   "metadata": {},
   "outputs": [],
   "source": [
    "BP_RP = np.array([3.245,-2.4309,1.043,-0.2127,0.01649,0,0])\n",
    "V_J = np.array([2.840,-1.3453,0.3906,-0.0546,0.002913,0,0])\n",
    "V_Ic = np.array([2.455,-1.5701,0.6891,-0.1500,0.01254,0,0])\n",
    "r_z = np.array([1.547,-0.7053,0.3656,-0.1008,0.01046,0,0])\n",
    "r_J = np.array([2.445,-1.2578,0.4340,-0.0720,0.004502,0,0])\n",
    "\n",
    "BP_RP_JH = np.array([3.172,-2.475,1.082,-0.2231,0.01738,0.08776,0.04355])\n",
    "V_J_JH = np.array([2.769,-1.421,0.4284,-0.06133,0.003310,0.1333,0.05416])\n",
    "V_Ic_JH = np.array([1.568,-0.4381,0.07749,-0.005610,0.0,0.2441,-0.09257])\n",
    "r_z_JH = np.array([1.384,-0.6132,0.3110,-0.08574,0.008895,0.1865,-0.02039])\n",
    "r_J_JH = np.array([2.151,-1.092,0.3767,-0.06292,0.003950,0.1697,0.03106])"
   ]
  },
  {
   "cell_type": "markdown",
   "metadata": {},
   "source": [
    "## Mass Equations\n",
    "\n",
    "Mann+ 2019, table 7"
   ]
  },
  {
   "cell_type": "code",
   "execution_count": 5,
   "metadata": {},
   "outputs": [],
   "source": [
    "def Mstar_Ks_Mann19(ID): # errors are 2.2%\n",
    "    \n",
    "    mK = magnitudes[ID]['K']\n",
    "    dist_pc = magnitudes[ID]['d_pc']\n",
    "    \n",
    "    a = np.array([-0.647,-0.208,-8.43e-4,7.87e-3,1.42e-4,-2.13e-4])\n",
    "    i = np.array([0,1,2,3,4,5])\n",
    "    \n",
    "    MK = mK - 5*np.log10(dist_pc/10)\n",
    "    mass_integral = a*((MK-7.5)**i)\n",
    "    Mass = np.sum(mass_integral)\n",
    "    error = 0.022*(10**Mass)\n",
    "    print(r'{:.4f}+/-{:.4f} Msun'.format(10**Mass,error))"
   ]
  },
  {
   "cell_type": "markdown",
   "metadata": {},
   "source": [
    "## Radius Equations\n",
    "\n",
    "Mann+ 2015, Eqn 4, table 1"
   ]
  },
  {
   "cell_type": "code",
   "execution_count": 6,
   "metadata": {},
   "outputs": [],
   "source": [
    "def Rstar_Ks_Mann15(ID): # 2.89% error\n",
    "    \n",
    "    mK = magnitudes[ID]['K']\n",
    "    dist_pc = magnitudes[ID]['d_pc']    \n",
    "    \n",
    "    a = 1.9515\n",
    "    b = -0.352\n",
    "    c = 0.0168\n",
    "    MK = mK - 5*np.log10(dist_pc/10)\n",
    "    radius = a + b*MK +c*MK**2.0\n",
    "    \n",
    "    error = 0.0289*radius\n",
    "    print(r'{:.4f}+/-{:.4f} Rsun'.format(radius,error))"
   ]
  },
  {
   "cell_type": "code",
   "execution_count": 7,
   "metadata": {},
   "outputs": [],
   "source": [
    "def Rstar_Teff_Mann15(Teff): # 13.4% error\n",
    "        \n",
    "    a = 10.544\n",
    "    b = -33.7546\n",
    "    c = 35.1909\n",
    "    d = -11.5928\n",
    "    \n",
    "    X = T_eff/3500\n",
    "    \n",
    "    Radius = a + b*X + c*X**2 + d*X**3\n",
    "    error = 0.14*Radius\n",
    "    print(r'{:.4f}+/-{:.4f} Rsun'.format(Radius,error))"
   ]
  },
  {
   "cell_type": "markdown",
   "metadata": {},
   "source": [
    "## Teff Equation\n",
    "\n",
    "Mann+ 2015, Table 2"
   ]
  },
  {
   "cell_type": "code",
   "execution_count": 8,
   "metadata": {},
   "outputs": [],
   "source": [
    "def Teff_Mann15(ID,coeffs=BP_RP_JH): # errors are ~80K or 100K\n",
    "\n",
    "    BP = magnitudes[ID]['Gaia_bp']\n",
    "    RP = magnitudes[ID]['Gaia_rp']\n",
    "    V = magnitudes[ID]['V']\n",
    "    J = magnitudes[ID]['J']\n",
    "    H = magnitudes[ID]['H']\n",
    "    Ic = magnitudes[ID]['Ic']\n",
    "    \n",
    "    if ((coeffs is BP_RP) or (coeffs is BP_RP_JH)):\n",
    "        X = BP-RP\n",
    "    if (coeffs is V_J) or (coeffs is V_J_JH):\n",
    "        X = V-J\n",
    "    if (coeffs is V_Ic) or (coeffs is V_Ic_JH) :\n",
    "        X = V-Ic\n",
    "        \n",
    "    polynomial = np.array([1,X,X**2,X**3,X**4,(J-H),(J-H)**2])\n",
    "    \n",
    "    Teff = np.sum(coeffs*polynomial)*3500\n",
    "    \n",
    "    print('{:.0f}'.format(Teff))"
   ]
  },
  {
   "cell_type": "code",
   "execution_count": 17,
   "metadata": {},
   "outputs": [
    {
     "name": "stdout",
     "output_type": "stream",
     "text": [
      "3442\n",
      "3361\n",
      "3471\n",
      "3409\n",
      "3305\n",
      "3427\n"
     ]
    }
   ],
   "source": [
    "Teff_Mann15('TOI 122',coeffs = BP_RP)\n",
    "Teff_Mann15('TOI 122',coeffs = V_J)\n",
    "Teff_Mann15('TOI 122',coeffs = V_Ic)\n",
    "\n",
    "Teff_Mann15('TOI 122',coeffs = BP_RP_JH)\n",
    "Teff_Mann15('TOI 122',coeffs = V_J_JH)\n",
    "Teff_Mann15('TOI 122',coeffs = V_Ic_JH)"
   ]
  },
  {
   "cell_type": "code",
   "execution_count": 18,
   "metadata": {},
   "outputs": [
    {
     "data": {
      "text/plain": [
       "3403.020969779429"
      ]
     },
     "execution_count": 18,
     "metadata": {},
     "output_type": "execute_result"
    }
   ],
   "source": [
    "Temps = np.array([3442,3361,3471,3409,3305,3427])\n",
    "errors = np.array([52,55,53,49,48,52])\n",
    "errors = np.sqrt(errors*np.array([60,60,60,60,60,60]))\n",
    "\n",
    "np.average(a = Temps, axis = None, weights = errors)"
   ]
  },
  {
   "cell_type": "code",
   "execution_count": 19,
   "metadata": {},
   "outputs": [
    {
     "data": {
      "text/plain": [
       "54.95983381828345"
      ]
     },
     "execution_count": 19,
     "metadata": {},
     "output_type": "execute_result"
    }
   ],
   "source": [
    "np.std(Temps)"
   ]
  },
  {
   "cell_type": "code",
   "execution_count": 20,
   "metadata": {},
   "outputs": [
    {
     "name": "stdout",
     "output_type": "stream",
     "text": [
      "3289\n",
      "3164\n",
      "3212\n",
      "3283\n",
      "3139\n",
      "3188\n"
     ]
    }
   ],
   "source": [
    "Teff_Mann15('TOI 237',coeffs = BP_RP)\n",
    "Teff_Mann15('TOI 237',coeffs = V_J)\n",
    "Teff_Mann15('TOI 237',coeffs = V_Ic)\n",
    "\n",
    "Teff_Mann15('TOI 237',coeffs = BP_RP_JH)\n",
    "Teff_Mann15('TOI 237',coeffs = V_J_JH)\n",
    "Teff_Mann15('TOI 237',coeffs = V_Ic_JH)"
   ]
  },
  {
   "cell_type": "code",
   "execution_count": 22,
   "metadata": {},
   "outputs": [
    {
     "data": {
      "text/plain": [
       "56.53538714822779"
      ]
     },
     "execution_count": 22,
     "metadata": {},
     "output_type": "execute_result"
    }
   ],
   "source": [
    "Temps = np.array([3289,3164,3212,3283,3139,3188])\n",
    "errors = np.array([52,55,53,49,48,52])\n",
    "errors = np.sqrt(errors*np.array([60,60,60,60,60,60]))\n",
    "\n",
    "np.average(a = Temps, axis = None, weights = errors)\n",
    "np.std(Temps)"
   ]
  },
  {
   "cell_type": "code",
   "execution_count": 10,
   "metadata": {},
   "outputs": [
    {
     "name": "stdout",
     "output_type": "stream",
     "text": [
      "4026\n",
      "3966\n",
      "4198\n",
      "4029\n",
      "3966\n",
      "4134\n",
      "0.5485+/-0.0159 Rsun\n",
      "0.5376+/-0.0118 Msun\n"
     ]
    }
   ],
   "source": [
    "Teff_Mann15('TOI 2269',coeffs = BP_RP)\n",
    "Teff_Mann15('TOI 2269',coeffs = V_J)\n",
    "Teff_Mann15('TOI 2269',coeffs = V_Ic)\n",
    "\n",
    "Teff_Mann15('TOI 2269',coeffs = BP_RP_JH)\n",
    "Teff_Mann15('TOI 2269',coeffs = V_J_JH)\n",
    "Teff_Mann15('TOI 2269',coeffs = V_Ic_JH)\n",
    "\n",
    "Rstar_Ks_Mann15('TOI 2269')\n",
    "Mstar_Ks_Mann19('TOI 2269')"
   ]
  },
  {
   "cell_type": "markdown",
   "metadata": {},
   "source": [
    "## Luminosity \n",
    "\n",
    "Bolometric Corrections from Mann+ 2015, Table 3"
   ]
  },
  {
   "cell_type": "code",
   "execution_count": 41,
   "metadata": {},
   "outputs": [],
   "source": [
    "def Lumin_BoloCorr_Mann15(ID): #Mann+ 2015\n",
    "    \n",
    "    mV = magnitudes[ID]['V']\n",
    "    mJ = magnitudes[ID]['J']\n",
    "    dist_pc = magnitudes[ID]['d_pc']\n",
    "    \n",
    "    #sigma = +/- 0.016, or 5% (inflated from 2-3%)\n",
    "    \n",
    "    a = 0.5817\n",
    "    b = -0.4168\n",
    "    c = -0.08165\n",
    "    d = 4.084e-3\n",
    "    \n",
    "    X = mV-mJ\n",
    "    Distance = dist_pc/10\n",
    "    MV = mV - 5*np.log10(Distance)\n",
    "    \n",
    "    BCv = a + b*(X) + c*(X**2) + d*(X**3)\n",
    "    mbol = mV + BCv\n",
    "    Mbol = mbol - 5*np.log10(Distance)\n",
    "    Msun = 4.8\n",
    "    \n",
    "    lum = 10**((Msun-Mbol)/2.5)\n",
    "    \n",
    "    error = 0.02*lum\n",
    "    print(r'{:.5f}+/-{:.5f} Lsun'.format(lum,error))\n",
    "    #return lum"
   ]
  },
  {
   "cell_type": "code",
   "execution_count": 44,
   "metadata": {},
   "outputs": [],
   "source": [
    "def Lumin_Definition(R,Teff):\n",
    "    \n",
    "    L = R**2*(Teff/5770)**4\n",
    "    return np.percentile(L, [16.,50.,84.])"
   ]
  },
  {
   "cell_type": "code",
   "execution_count": 45,
   "metadata": {},
   "outputs": [
    {
     "name": "stdout",
     "output_type": "stream",
     "text": [
      "0.01401+/-0.00028 Lsun\n",
      "0.00409+/-0.00008 Lsun\n"
     ]
    }
   ],
   "source": [
    "Lumin_BoloCorr_Mann15('TOI 122')\n",
    "Lumin_BoloCorr_Mann15('TOI 237')"
   ]
  },
  {
   "cell_type": "code",
   "execution_count": 48,
   "metadata": {},
   "outputs": [
    {
     "data": {
      "text/plain": [
       "array([0.01134056, 0.0134451 , 0.01577747])"
      ]
     },
     "execution_count": 48,
     "metadata": {},
     "output_type": "execute_result"
    }
   ],
   "source": [
    "Lumin_Definition(R=np.random.normal(0.211,0.006,2000),\n",
    "                Teff = np.random.normal(3212,100,2000))\n",
    "\n",
    "Lumin_Definition(R=np.random.normal(0.334,0.02,2000),\n",
    "                Teff = np.random.normal(3403,100,2000))"
   ]
  },
  {
   "cell_type": "markdown",
   "metadata": {},
   "source": [
    "## Density"
   ]
  },
  {
   "cell_type": "code",
   "execution_count": 3,
   "metadata": {},
   "outputs": [],
   "source": [
    "def Density_Definition(M,R):\n",
    "    \n",
    "    Mass = M*c.M_sun * (1000*u.g/u.kg)\n",
    "    volume = 4/3*np.pi*(R*c.R_sun)**3 * (100*u.cm/u.m)**3\n",
    "    density = Mass/volume\n",
    "    \n",
    "    return density"
   ]
  },
  {
   "cell_type": "code",
   "execution_count": null,
   "metadata": {},
   "outputs": [],
   "source": []
  },
  {
   "cell_type": "markdown",
   "metadata": {},
   "source": [
    "## Plots"
   ]
  },
  {
   "cell_type": "code",
   "execution_count": 2,
   "metadata": {},
   "outputs": [],
   "source": [
    "# plt.figure(figsize=(8,8))\n",
    "# plt.xlim(0.1,0.5)\n",
    "# plt.xlabel('Mass (Msun)')\n",
    "# plt.ylim(0.1,0.5)\n",
    "# plt.ylabel('Radius (Rsun)')\n",
    "\n",
    "# plt.axvspan(0.17,0.188, label='Mann+ 2019 (MKs)',color='black',alpha=0.3)\n",
    "# plt.axhspan((0.183),(0.203), label='Mann+ 2015 (Teff=3085K)',color='hotpink',alpha=0.3)\n",
    "# plt.axhspan((0.2),(0.222), label='Mann+ 2015 (MKs)',color='b',alpha=0.3)\n",
    "# plt.axhspan((0.24),(0.32), label='Magellan FIRE',color='orange', alpha=0.3)\n",
    "# plt.axhspan((0.195),(0.219), label='Michele Silversteins Pipeline',color='green',alpha=0.3)\n",
    "\n",
    "# plt.plot(Masses_from_Mann2019/c.M_sun,radii_from_density,color='k',\n",
    "#          label=r'Radius based on $\\rho_{*}$')\n",
    "\n",
    "# plt.legend()\n",
    "# plt.show()"
   ]
  },
  {
   "cell_type": "code",
   "execution_count": 3,
   "metadata": {},
   "outputs": [],
   "source": [
    "# plt.figure(figsize=(8,8))\n",
    "# plt.xlim(2800,3900)\n",
    "# plt.xlabel('Teff (K)')\n",
    "# plt.ylim(0.1,0.5)\n",
    "# plt.ylabel('Radius (Rsun)')\n",
    "\n",
    "# plt.axhspan((0.183),(0.203), label='Mann+ 2015 (Teff=3085K)',color='blue',alpha=0.3)\n",
    "# plt.axhspan((0.2),(0.222), label='Mann+ 2015 (MKs)',color='red',alpha=0.3)\n",
    "\n",
    "# plt.axhspan((0.24),(0.32), label='Magellan FIRE',color='orange', alpha=0.3)\n",
    "# plt.axvspan((2998),(3172),color='orange', alpha=0.3)\n",
    "\n",
    "# plt.axhspan((0.195),(0.219), label='Michele Silversteins Pipeline',color='green',alpha=0.3)\n",
    "# plt.axvspan((3073),(3255),color='green', alpha=0.3)\n",
    "\n",
    "# plt.errorbar()\n",
    "\n",
    "# plt.axvspan((2900),(3100), label='SALT HRS',color='hotpink', alpha=0.3)\n",
    "# plt.axvspan((2874),(3176), label='Mann+ 2015 (VJH)',color='k', alpha=0.3)\n",
    "\n",
    "# plt.legend()\n",
    "# plt.show()"
   ]
  },
  {
   "cell_type": "code",
   "execution_count": 34,
   "metadata": {},
   "outputs": [],
   "source": [
    "# plt.figure(figsize=(8,8))\n",
    "# plt.xlim(0.1,0.5)\n",
    "# plt.xlabel('Mass (Msun)')\n",
    "# plt.ylim(0.1,0.5)\n",
    "# plt.ylabel('Radius (Rsun)')\n",
    "\n",
    "# plt.axvspan(0.296,0.328, label='Mann+ 2019 (MKs)',color='black',alpha=0.3)\n",
    "# plt.axhspan((0.483),(0.533), label='Mann+ 2015 (Teff=3732K)',color='hotpink',alpha=0.3)\n",
    "# plt.axhspan(0.317,0.351, label='Mann+ 2015 (MKs)',color='b',alpha=0.3)\n",
    "# plt.axhspan((0.41),(0.47), label='Magellan FIRE',color='orange', alpha=0.3)\n",
    "# plt.axhspan((0.316),(0.354), label='Michele Silversteins Pipeline',color='green',alpha=0.3)\n",
    "\n",
    "# plt.plot(Masses_from_Mann2019/c.M_sun,radii_from_density,color='k',\n",
    "#          label=r'Radius based on $\\rho_{*}$')\n",
    "\n",
    "# plt.legend()\n",
    "# plt.show()"
   ]
  },
  {
   "cell_type": "code",
   "execution_count": 35,
   "metadata": {},
   "outputs": [],
   "source": [
    "# plt.figure(figsize=(8,8))\n",
    "# plt.xlim(3000,4000)\n",
    "# plt.xlabel('Teff (K)')\n",
    "# plt.ylim(0.1,0.5)\n",
    "# plt.ylabel('Radius (Rsun)')\n",
    "\n",
    "# plt.axhspan((0.483),(0.533), label='Mann+ 2015 (Teff=3732K)',color='hotpink',alpha=0.3)\n",
    "# plt.axhspan(0.317,0.351, label='Mann+ 2015 (MKs)',color='b',alpha=0.3)\n",
    "\n",
    "# plt.axhspan((0.41),(0.47), label='Magellan FIRE',color='orange', alpha=0.3)\n",
    "# plt.axvspan((3647),(3817), label='Magellan FIRE',color='orange')\n",
    "\n",
    "# plt.axvspan((3600),(3800), label='SALT HRS',color='blue')\n",
    "\n",
    "# plt.axvspan((3046),(3356), label='Mann+ 2015 (VJH)',color='purple')\n",
    "\n",
    "# plt.axhspan((0.316),(0.354), label='Michele Silversteins Pipeline',color='green',alpha=0.3)\n",
    "# plt.axvspan((3276),(3462),color='green')\n",
    "\n",
    "# plt.legend()\n",
    "# plt.show()"
   ]
  },
  {
   "cell_type": "code",
   "execution_count": null,
   "metadata": {},
   "outputs": [],
   "source": []
  }
 ],
 "metadata": {
  "kernelspec": {
   "display_name": "Python 3",
   "language": "python",
   "name": "python3"
  },
  "language_info": {
   "codemirror_mode": {
    "name": "ipython",
    "version": 3
   },
   "file_extension": ".py",
   "mimetype": "text/x-python",
   "name": "python",
   "nbconvert_exporter": "python",
   "pygments_lexer": "ipython3",
   "version": "3.8.3"
  }
 },
 "nbformat": 4,
 "nbformat_minor": 4
}
