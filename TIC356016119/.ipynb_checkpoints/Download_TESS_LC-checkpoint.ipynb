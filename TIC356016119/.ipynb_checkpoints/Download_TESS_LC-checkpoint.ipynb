{
 "cells": [
  {
   "cell_type": "code",
   "execution_count": 2,
   "metadata": {},
   "outputs": [],
   "source": [
    "import lightkurve as lk\n",
    "import pandas\n",
    "import numpy as np\n",
    "import matplotlib.pyplot as plt\n",
    "from astropy.io import ascii\n",
    "from astropy.table import Table, Column\n",
    "import lightkurve\n",
    "import emcee\n",
    "from lightkurve.lightcurve import LightCurve\n",
    "import os"
   ]
  },
  {
   "cell_type": "code",
   "execution_count": 6,
   "metadata": {},
   "outputs": [],
   "source": [
    "os.chdir('/Users/willwaalkes/Desktop/PhD_Thesis/TFOP/Transit_Analysis/')"
   ]
  },
  {
   "cell_type": "code",
   "execution_count": 13,
   "metadata": {},
   "outputs": [
    {
     "name": "stdout",
     "output_type": "stream",
     "text": [
      "TIC  356016119\n",
      "TOI  2094.01\n"
     ]
    }
   ],
   "source": [
    "params = pandas.read_csv('Data/TESS_Objects.csv',comment='#')\n",
    "\n",
    "TOI = 2094.01\n",
    "TIC_IDs = params['TIC_ID']\n",
    "TOIs = params['TOI']\n",
    "\n",
    "for i in range(len(TOIs)):\n",
    "    if TOIs[i] == TOI:\n",
    "        index = i\n",
    "\n",
    "tic_id = int(TIC_IDs[index])\n",
    "toi = TOIs[index]\n",
    "observatory = 'TESS'\n",
    "\n",
    "print('TIC ',tic_id)\n",
    "print('TOI ',toi)"
   ]
  },
  {
   "cell_type": "code",
   "execution_count": 14,
   "metadata": {},
   "outputs": [
    {
     "data": {
      "text/plain": [
       "LightCurveFileCollection of 12 objects:\n",
       "\tTIC 356016119 (12 TessLightCurveFiles) Sectors: 14,15,16,17,19,20,21,22,23,24,25,26"
      ]
     },
     "execution_count": 14,
     "metadata": {},
     "output_type": "execute_result"
    }
   ],
   "source": [
    "tic_id = '356016119'\n",
    "lcf = lk.search_lightcurvefile(f'TIC {tic_id}').download_all()\n",
    "lcf"
   ]
  },
  {
   "cell_type": "code",
   "execution_count": null,
   "metadata": {},
   "outputs": [
    {
     "data": {
      "text/plain": [
       "<matplotlib.axes._subplots.AxesSubplot at 0x7f80ddda9bd0>"
      ]
     },
     "execution_count": 15,
     "metadata": {},
     "output_type": "execute_result"
    }
   ],
   "source": [
    "stitched_lc = lcf.PDCSAP_FLUX.stitch().remove_outliers(sigma=10)\n",
    "stitched_lc.scatter(alpha=0.2,color='royalblue',rasterized=True)"
   ]
  },
  {
   "cell_type": "code",
   "execution_count": null,
   "metadata": {},
   "outputs": [],
   "source": [
    "planet_period = params['P (days)'][index] # must be in days\n",
    "planet_radius = params['Rp/R*'][index] # Rp/R*\n",
    "Epoch = params['Epoch'][index] \n",
    "planet_a = params['a/R*'][index] # a/R*\n",
    "planet_b = params['b'][index] # impact parameter\n",
    "planet_duration = params['Dur'][index] #hours\n",
    "ppm_depth = params['Depth'][index] #ppm\n",
    "\n",
    "planet_i = np.arccos(planet_b/planet_a)*180/np.pi #inclination in degrees\n",
    "depth = (1-ppm_depth/1e6)\n",
    "\n",
    "star_teff = params['T_eff'][index] # K\n",
    "star_met = params['Met'][index] # metallicity\n",
    "star_g = params['logg'][index] # log g\n",
    "star_radius = params['R_s'][index] #R*/Rsun"
   ]
  },
  {
   "cell_type": "code",
   "execution_count": null,
   "metadata": {},
   "outputs": [],
   "source": [
    "# This box will plot the full folded light curve as well as a zoomed in region on the transit\n",
    "\n",
    "T = planet_period\n",
    "T0 = Epoch\n",
    "\n",
    "folded_lc = stitched_lc.fold(period=T, t0=T0)\n",
    "\n",
    "TLC = folded_lc\n",
    "\n",
    "fig, (ax0,ax1) = plt.subplots(2,1,figsize=(11,9))\n",
    "\n",
    "#init_model = BATMAN(planet_period,planet_radius,t0=Epoch,inc=planet_i,\n",
    "#                    A=planet_a,LD=[0.31,0.32],t = TLC.time)\n",
    "\n",
    "\n",
    "#ingress = (Epoch+n*planet_period)-(planet_duration/2)/24\n",
    "ingress = (0-(planet_duration/2)/24)/T\n",
    "#egress = (Epoch+n*planet_period)+(planet_duration/2)/24\n",
    "egress = (0+(planet_duration/2)/24)/T\n",
    "\n",
    "ax0.scatter(TLC.bin(binsize=30).time, TLC.bin(binsize=30).flux, alpha=0.05,rasterized=True, label = 'Folded TESS light curve, alpha = 0.05')\n",
    "ax0.axvspan(ingress, egress, alpha=0.2, color='pink')\n",
    "\n",
    "ax0.set_ylabel('Normalized Flux')\n",
    "ax0.set_ylim(0.98,1.02)\n",
    "ax0.legend()\n",
    "\n",
    "\n",
    "ax1.scatter(TLC.bin(binsize=20).time, TLC.bin(binsize=20).flux, alpha=0.2,rasterized=True)\n",
    "ax1.axvspan(ingress, egress, alpha=0.5, color='pink',zorder=-2)\n",
    "ax1.axhline(1, color='k',zorder=100)\n",
    "ax1.axhline(depth, color='r',zorder=100,label='Reported Depth',linestyle='--',alpha=0.5)\n",
    "#ax1.plot(TLC.time, init_model, color='k',zorder=-1)\n",
    "\n",
    "ax1.set_xlim(ingress-0.05, egress+0.05)\n",
    "ax1.set_ylim(0.99,1.01)\n",
    "ax1.set_ylabel('Normalized Flux')\n",
    "ax1.set_xlabel('Phase')\n",
    "ax1.legend()\n",
    "\n",
    "plt.savefig(f'Figs/TOI_{toi}_TESS_folded.pdf')\n",
    "plt.show()"
   ]
  }
 ],
 "metadata": {
  "kernelspec": {
   "display_name": "Python 3",
   "language": "python",
   "name": "python3"
  },
  "language_info": {
   "codemirror_mode": {
    "name": "ipython",
    "version": 3
   },
   "file_extension": ".py",
   "mimetype": "text/x-python",
   "name": "python",
   "nbconvert_exporter": "python",
   "pygments_lexer": "ipython3",
   "version": "3.7.4"
  }
 },
 "nbformat": 4,
 "nbformat_minor": 4
}
