{
 "cells": [
  {
   "cell_type": "code",
   "execution_count": null,
   "metadata": {},
   "outputs": [],
   "source": [
    "import numpy as np\n",
    "import lightkurve as lk\n",
    "import matplotlib.pyplot as plt\n",
    "from astropy.io import fits\n",
    "import os\n",
    "import glob"
   ]
  },
  {
   "cell_type": "code",
   "execution_count": null,
   "metadata": {},
   "outputs": [],
   "source": [
    "os.chdir('/Users/willwaalkes/Desktop/APO_Data/Q2CU01/UT210602/')\n",
    "\n",
    "flat_dir = 'cals/flats/'\n",
    "bias_dir = 'cals/biases/'\n",
    "dark_dir = 'cals/darks/'\n",
    "science_dir = 'science/'\n",
    "reduced_dir = 'science/reduced/'"
   ]
  },
  {
   "cell_type": "markdown",
   "metadata": {},
   "source": [
    "## BIASES"
   ]
  },
  {
   "cell_type": "code",
   "execution_count": null,
   "metadata": {},
   "outputs": [],
   "source": [
    "biases = []\n",
    "\n",
    "for name in glob.glob(bias_dir + '*.fits'):\n",
    "    \n",
    "    hdul = fits.open(name)    \n",
    "    data = hdul[0].data\n",
    "    biases.append(data)\n",
    "\n",
    "masterbias = np.median(np.array(biases),axis=0)"
   ]
  },
  {
   "cell_type": "code",
   "execution_count": null,
   "metadata": {},
   "outputs": [],
   "source": [
    "std = np.std(masterbias)\n",
    "mean = np.mean(masterbias)\n",
    "    \n",
    "print(f\"std: {std}\")\n",
    "print(f\"mean: {mean}\")\n",
    "\n",
    "plt.figure(figsize=(10,8))\n",
    "plt.imshow((masterbias),vmin=(mean-std),vmax=(mean+std))\n",
    "plt.title('Master Bias')\n",
    "plt.colorbar()\n",
    "plt.show()\n",
    "plt.close()"
   ]
  },
  {
   "cell_type": "markdown",
   "metadata": {},
   "source": [
    "## DARKS"
   ]
  },
  {
   "cell_type": "code",
   "execution_count": null,
   "metadata": {},
   "outputs": [],
   "source": [
    "darks = []\n",
    "\n",
    "for name in glob.glob(dark_dir + '*.fits'):\n",
    "    \n",
    "    hdul = fits.open(name)    \n",
    "    data = hdul[0].data\n",
    "    darks.append(data)\n",
    "\n",
    "\n",
    "masterdark = np.median(np.array(darks),axis=0)"
   ]
  },
  {
   "cell_type": "code",
   "execution_count": null,
   "metadata": {},
   "outputs": [],
   "source": [
    "std = np.std(masterdark)\n",
    "mean = np.mean(masterdark)\n",
    "    \n",
    "print(f\"std: {std}\")\n",
    "print(f\"mean: {mean}\")\n",
    "\n",
    "plt.figure(figsize=(10,8))\n",
    "plt.imshow((masterdark),vmin=(mean-std/2),vmax=(mean+std/2))\n",
    "plt.title('Master Dark')\n",
    "plt.colorbar()\n",
    "plt.show()\n",
    "plt.close()"
   ]
  },
  {
   "cell_type": "markdown",
   "metadata": {},
   "source": [
    "## FLATS"
   ]
  },
  {
   "cell_type": "code",
   "execution_count": null,
   "metadata": {},
   "outputs": [],
   "source": [
    "flats = []\n",
    "\n",
    "for name in glob.glob(flat_dir + '*.fits'):\n",
    "    \n",
    "    hdul = fits.open(name)    \n",
    "    data = hdul[0].data\n",
    "    data = data - masterbias\n",
    "    data /= np.median(data)\n",
    "    flats.append(data)\n",
    "\n",
    "\n",
    "masterflat = np.median(np.array(flats),axis=0)"
   ]
  },
  {
   "cell_type": "code",
   "execution_count": null,
   "metadata": {},
   "outputs": [],
   "source": [
    "std = np.std(masterflat)\n",
    "mean = np.mean(masterflat)\n",
    "    \n",
    "print(f\"std: {std}\")\n",
    "print(f\"mean: {mean}\")\n",
    "\n",
    "plt.figure(figsize=(10,8))\n",
    "plt.imshow((masterflat),vmin=(mean-std),vmax=(mean+std))\n",
    "plt.title('Master Flat')\n",
    "plt.colorbar()\n",
    "plt.show()\n",
    "plt.close()"
   ]
  },
  {
   "cell_type": "markdown",
   "metadata": {},
   "source": [
    "## DARK - BIAS"
   ]
  },
  {
   "cell_type": "code",
   "execution_count": null,
   "metadata": {},
   "outputs": [],
   "source": [
    "mean = np.mean(masterdark-masterbias)\n",
    "    \n",
    "print(f\"mean: {mean}\")\n",
    "    \n",
    "plt.imshow((masterdark-masterbias),vmin=(mean-2),vmax=(mean+2))\n",
    "plt.title('Master (Dark - Bias)')\n",
    "plt.colorbar()\n",
    "plt.show()\n",
    "plt.close()"
   ]
  },
  {
   "cell_type": "markdown",
   "metadata": {},
   "source": [
    "## SCIENCE IMAGES"
   ]
  },
  {
   "cell_type": "code",
   "execution_count": null,
   "metadata": {},
   "outputs": [],
   "source": [
    "os.chdir(directory + science_dir)\n",
    "\n",
    "for name in glob.glob('*.fits'):\n",
    "            \n",
    "    hdul = fits.open(name)    \n",
    "    \n",
    "    hdul[0].data = (hdul[0].data - masterdark)\n",
    "    hdul[0].data /= masterflat\n",
    "    \n",
    "    hdul.writeto('reduced/' + name, overwrite=True)"
   ]
  },
  {
   "cell_type": "code",
   "execution_count": null,
   "metadata": {},
   "outputs": [],
   "source": []
  }
 ],
 "metadata": {
  "kernelspec": {
   "display_name": "Python 3",
   "language": "python",
   "name": "python3"
  },
  "language_info": {
   "codemirror_mode": {
    "name": "ipython",
    "version": 3
   },
   "file_extension": ".py",
   "mimetype": "text/x-python",
   "name": "python",
   "nbconvert_exporter": "python",
   "pygments_lexer": "ipython3",
   "version": "3.7.4"
  }
 },
 "nbformat": 4,
 "nbformat_minor": 4
}
